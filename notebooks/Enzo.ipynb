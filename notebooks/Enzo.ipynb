{
 "cells": [
  {
   "cell_type": "code",
   "execution_count": 1,
   "metadata": {},
   "outputs": [],
   "source": [
    "import pandas as pd "
   ]
  },
  {
   "cell_type": "code",
   "execution_count": 16,
   "metadata": {},
   "outputs": [],
   "source": [
    "# Fonction (file.csv, int) -> df\n",
    "\n",
    "def load_person_data(filename:str, n:int)-> pd.DataFrame:\n",
    "    df = pd.read_csv(filename, names=['Nom', 'Note'], header=None)\n",
    "    #df_trie = df.sort_values(by=\"Nom\")\n",
    "    return df.head(n)\n",
    "    "
   ]
  },
  {
   "cell_type": "code",
   "execution_count": 17,
   "metadata": {},
   "outputs": [],
   "source": [
    "# Recherche linaire\n",
    "def recherche_linaire(df:pd.DataFrame, cible:str)->float:\n",
    "    noms = df['Nom'].to_list()\n",
    "\n",
    "    for i in range(len(noms)):\n",
    "        if noms[i] == cible:\n",
    "            index_cible = i\n",
    "            return df.loc[index_cible]['Note']"
   ]
  },
  {
   "cell_type": "code",
   "execution_count": 23,
   "metadata": {},
   "outputs": [],
   "source": [
    "def recherche_binaire(df:pd.DataFrame,cible:str) ->float:\n",
    "    # DF est trié\n",
    "    noms = df['Nom'].to_list()\n",
    "    low, high = 0, len(noms)-1\n",
    "\n",
    "    while low <= high:\n",
    "        mid = (low+high) //2\n",
    "        if noms[mid]==cible:\n",
    "            return 0 #TO DO\n",
    "        elif noms[mid] < cible : \n",
    "            low = mid + 1\n",
    "        else: \n",
    "            high = mid -1\n",
    "            return None"
   ]
  },
  {
   "cell_type": "code",
   "execution_count": 1,
   "metadata": {},
   "outputs": [
    {
     "ename": "NameError",
     "evalue": "name 'person_data' is not defined",
     "output_type": "error",
     "traceback": [
      "\u001b[1;31m---------------------------------------------------------------------------\u001b[0m",
      "\u001b[1;31mNameError\u001b[0m                                 Traceback (most recent call last)",
      "Cell \u001b[1;32mIn[1], line 1\u001b[0m\n\u001b[1;32m----> 1\u001b[0m \u001b[38;5;28mprint\u001b[39m(\u001b[43mperson_data\u001b[49m\u001b[38;5;241m.\u001b[39mcsv)\n",
      "\u001b[1;31mNameError\u001b[0m: name 'person_data' is not defined"
     ]
    }
   ],
   "source": [
    "print(person_data.csv)"
   ]
  }
 ],
 "metadata": {
  "kernelspec": {
   "display_name": "Python 3",
   "language": "python",
   "name": "python3"
  },
  "language_info": {
   "codemirror_mode": {
    "name": "ipython",
    "version": 3
   },
   "file_extension": ".py",
   "mimetype": "text/x-python",
   "name": "python",
   "nbconvert_exporter": "python",
   "pygments_lexer": "ipython3",
   "version": "3.12.6"
  }
 },
 "nbformat": 4,
 "nbformat_minor": 2
}
