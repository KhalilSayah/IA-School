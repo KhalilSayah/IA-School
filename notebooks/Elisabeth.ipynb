{
 "cells": [
  {
   "cell_type": "markdown",
   "metadata": {},
   "source": [
    "Etape 1"
   ]
  },
  {
   "cell_type": "code",
   "execution_count": null,
   "metadata": {},
   "outputs": [],
   "source": [
    "pip install pandas\n",
    "\n",
    "import pandas as pd\n",
    "\n",
    "def load_person_data(filename:str, n:int)-> pd.DataFrame:\n",
    "    df = pd.read_csv(filename, names=['Nom', 'Note'], header=None)\n",
    "    #df_trie = df.sort_values(by=\"Nom\")\n",
    "    return df.head(n)"
   ]
  },
  {
   "cell_type": "code",
   "execution_count": null,
   "metadata": {},
   "outputs": [],
   "source": [
    "def recherche_linaire(df:pd.DataFrame, cible:str)->float:\n",
    "    noms = df['Nom'].to_list()\n",
    "\n",
    "    for i in range(len(noms)):\n",
    "        if noms[i] == cible:\n",
    "            index_cible = i\n",
    "            return df.loc[index_cible]['Note']"
   ]
  },
  {
   "cell_type": "code",
   "execution_count": null,
   "metadata": {},
   "outputs": [],
   "source": [
    "df = load_person_data(filename, 20)\n",
    "recherche_linaire(df, \"Alex\")"
   ]
  },
  {
   "cell_type": "markdown",
   "metadata": {},
   "source": [
    "Etape 2"
   ]
  },
  {
   "cell_type": "code",
   "execution_count": null,
   "metadata": {},
   "outputs": [],
   "source": [
    "df = load_person_data(filename, 20)\n",
    "print(df)\n",
    "def recherche_binaire(df:pd.Datafram,cibl "
   ]
  }
 ],
 "metadata": {
  "language_info": {
   "name": "python"
  }
 },
 "nbformat": 4,
 "nbformat_minor": 2
}
