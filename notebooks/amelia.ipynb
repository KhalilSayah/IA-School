{
 "cells": [
  {
   "cell_type": "code",
   "execution_count": 3,
   "metadata": {},
   "outputs": [],
   "source": [
    "import pandas as pd\n",
    "import time"
   ]
  },
  {
   "cell_type": "markdown",
   "metadata": {},
   "source": [
    "EXERCICE 1:"
   ]
  },
  {
   "cell_type": "code",
   "execution_count": 6,
   "metadata": {},
   "outputs": [],
   "source": [
    "def load_person_data(filename, n):\n",
    "    data = pd.read_csv(filename, names=['nom', 'notes'], nrows=n)\n",
    "\n",
    "    data_list = list(data.itertuples(False,None))\n",
    "\n",
    "    return data_list"
   ]
  },
  {
   "cell_type": "code",
   "execution_count": 3,
   "metadata": {},
   "outputs": [],
   "source": [
    "def recherche_lineaire(d, target):\n",
    "    for i in d:\n",
    "        if i[0] == target:\n",
    "            return i[1]\n",
    "    return -1"
   ]
  },
  {
   "cell_type": "code",
   "execution_count": 23,
   "metadata": {},
   "outputs": [
    {
     "name": "stdout",
     "output_type": "stream",
     "text": [
      "[('Alex', 8.8), ('Marie', 13.74), ('Lucas', 11.77), ('Emma', 7.88), ('Paul', 3.17), ('Laura', 0.49), ('Hugo', 8.32), ('Chloe', 16.85), ('Maxime', 10.42), ('Sophie', 13.94), ('Nathan', 3.0), ('Camille', 10.09), ('Thomas', 10.14), ('Juliette', 7.59), ('Matthieu', 14.22), ('Manon', 5.7), ('Leo', 8.61), ('Sarah', 18.95), ('Antoine', 0.76), ('Lucie', 5.94), ('Julien', 6.24), ('Clara', 4.45), ('Romain', 4.2), ('Elise', 4.93), ('Pierre', 9.85), ('Alicia', 5.58), ('Bastien', 15.45), ('Eva', 19.03), ('David', 6.03), ('Alice', 8.55), ('Quentin', 5.41), ('Jeanne', 9.78), ('Arthur', 9.77), ('Louise', 6.49), ('Benoit', 0.95), ('Lea', 10.92), ('Gaetan', 1.91), ('Margaux', 4.78), ('Jeremy', 4.85), ('Amandine', 6.71), ('Florian', 2.43), ('Anais', 6.47), ('Cedric', 7.1), ('Marine', 4.34), ('Guillaume', 10.16), ('Mathilde', 15.46), ('Vincent', 18.74), ('Charlotte', 1.91), ('Kevin', 8.07), ('Marion', 4.63), ('Dylan', 4.43), ('Nina', 9.6), ('Mickael', 2.19), ('Celine', 10.11), ('Fabien', 10.25), ('Aurelie', 17.98), ('Benjamin', 3.36), ('Elsa', 18.57), ('Adrien', 16.39), ('Julie', 15.83), ('Sebastien', 19.4), ('Eva', 14.83), ('Morgane', 18.24), ('Alexandre', 2.85), ('Melissa', 13.35), ('Esteban', 12.91), ('Clotilde', 8.02), ('Damien', 0.02), ('Nathalie', 7.84), ('Yohan', 15.12), ('Eric', 14.92), ('Veronique', 3.23), ('Sacha', 17.9), ('Helene', 1.01), ('Gauthier', 17.8), ('Stephanie', 3.01), ('Olivier', 14.16), ('Fanny', 4.89), ('Raphael', 14.08), ('Isabelle', 4.52), ('Max', 9.87), ('Clemence', 14.08), ('Alain', 4.29), ('Julie', 11.93), ('Frederic', 12.54), ('Luc', 4.06), ('Karine', 13.4), ('Jean', 8.4), ('Catherine', 7.58), ('Patrick', 17.99), ('Sandrine', 7.44), ('Henri', 15.38), ('Marc', 18.15), ('Virginie', 19.64), ('Lionel', 11.42), ('Sabrina', 3.27), ('Jerome', 1.58), ('Eve', 12.82), ('Jean-Baptiste', 5.62), ('Christine', 6.36)]\n"
     ]
    }
   ],
   "source": [
    "filename = \"../data/person_data.csv\"\n",
    "n = 100\n",
    "donnes = load_person_data(filename,n)\n",
    "print(donnes)"
   ]
  },
  {
   "cell_type": "code",
   "execution_count": 9,
   "metadata": {},
   "outputs": [
    {
     "name": "stdout",
     "output_type": "stream",
     "text": [
      "Note de Juliette par recherche linéaire: 7.59\n",
      "Temps d'exécution:  0.00 secondes\n"
     ]
    }
   ],
   "source": [
    "temp_debut = time.time()\n",
    "resultaat = recherche_lineaire(donnes,'Juliette')\n",
    "temp_fin = time.time()\n",
    "\n",
    "print(f'Note de Juliette par recherche linéaire: {resultaat}')\n",
    "print(f'Temps d\\'exécution:  {temp_fin - temp_debut:.2f} secondes')"
   ]
  },
  {
   "cell_type": "markdown",
   "metadata": {},
   "source": [
    "EXERCICE 2:"
   ]
  },
  {
   "cell_type": "code",
   "execution_count": 20,
   "metadata": {},
   "outputs": [],
   "source": [
    "def recherche_dichotomique(d,target):\n",
    "    d.sort()\n",
    "    debut = 0\n",
    "    fin = len(d) -1\n",
    "\n",
    "    while debut <= fin:\n",
    "        mid = (debut + fin) // 2\n",
    "        nom, note = d[mid]\n",
    "\n",
    "        if target == nom:\n",
    "            return note\n",
    "        elif target < nom:\n",
    "            fin = mid -1\n",
    "        else:\n",
    "            debut = mid +1\n",
    "    \n",
    "    return -1"
   ]
  },
  {
   "cell_type": "code",
   "execution_count": 24,
   "metadata": {},
   "outputs": [
    {
     "name": "stdout",
     "output_type": "stream",
     "text": [
      "Note de Juliette par recherche binaire: 15.12\n"
     ]
    }
   ],
   "source": [
    "\n",
    "resultaat2 = recherche_dichotomique(donnes,'Yohan')\n",
    "\n",
    "print(f'Note de Juliette par recherche binaire: {resultaat2}')\n"
   ]
  },
  {
   "cell_type": "markdown",
   "metadata": {},
   "source": [
    "EXERCICE 3:"
   ]
  },
  {
   "cell_type": "code",
   "execution_count": 28,
   "metadata": {},
   "outputs": [],
   "source": [
    "def general(nom,d,algo):\n",
    "    if algo == 'recherche_lineaire':\n",
    "        output = recherche_lineaire(d,nom)\n",
    "        return output\n",
    "    elif algo == 'recherche_dichotomique':\n",
    "        output = recherche_dichotomique(d,nom)\n",
    "        return output\n",
    "    else:\n",
    "        return -1"
   ]
  },
  {
   "cell_type": "code",
   "execution_count": 30,
   "metadata": {},
   "outputs": [
    {
     "name": "stdout",
     "output_type": "stream",
     "text": [
      "8.32\n"
     ]
    }
   ],
   "source": [
    "print(general('Hugo',donnes,'recherche_dichotomique'))"
   ]
  },
  {
   "cell_type": "code",
   "execution_count": null,
   "metadata": {},
   "outputs": [],
   "source": []
  }
 ],
 "metadata": {
  "kernelspec": {
   "display_name": "Python 3",
   "language": "python",
   "name": "python3"
  },
  "language_info": {
   "codemirror_mode": {
    "name": "ipython",
    "version": 3
   },
   "file_extension": ".py",
   "mimetype": "text/x-python",
   "name": "python",
   "nbconvert_exporter": "python",
   "pygments_lexer": "ipython3",
   "version": "3.11.4"
  }
 },
 "nbformat": 4,
 "nbformat_minor": 2
}
