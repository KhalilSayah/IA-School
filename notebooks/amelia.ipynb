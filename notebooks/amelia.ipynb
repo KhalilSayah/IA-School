{
 "cells": [
  {
   "cell_type": "code",
   "execution_count": 1,
   "metadata": {},
   "outputs": [],
   "source": [
    "import pandas as pd\n",
    "import time"
   ]
  },
  {
   "cell_type": "code",
   "execution_count": 2,
   "metadata": {},
   "outputs": [],
   "source": [
    "def load_person_data(filename, n):\n",
    "    data = pd.read_csv(filename, names=['nom', 'notes'], nrows=n)\n",
    "\n",
    "    data_list = list(data.itertuples(False,None))\n",
    "\n",
    "    return data_list"
   ]
  },
  {
   "cell_type": "code",
   "execution_count": 3,
   "metadata": {},
   "outputs": [],
   "source": [
    "def recherche_lineaire(d, target):\n",
    "    for i in d:\n",
    "        if i[0] == target:\n",
    "            return i[1]\n",
    "    return -1"
   ]
  },
  {
   "cell_type": "code",
   "execution_count": 8,
   "metadata": {},
   "outputs": [
    {
     "name": "stdout",
     "output_type": "stream",
     "text": [
      "[('Alex', 8.8), ('Marie', 13.74), ('Lucas', 11.77), ('Emma', 7.88), ('Paul', 3.17), ('Laura', 0.49), ('Hugo', 8.32), ('Chloe', 16.85), ('Maxime', 10.42), ('Sophie', 13.94), ('Nathan', 3.0), ('Camille', 10.09), ('Thomas', 10.14), ('Juliette', 7.59), ('Matthieu', 14.22), ('Manon', 5.7), ('Leo', 8.61), ('Sarah', 18.95), ('Antoine', 0.76), ('Lucie', 5.94)]\n"
     ]
    }
   ],
   "source": [
    "filename = \"../data/person_data.csv\"\n",
    "n = 20\n",
    "donnes = load_person_data(filename,n)\n",
    "print(donnes)"
   ]
  },
  {
   "cell_type": "code",
   "execution_count": 9,
   "metadata": {},
   "outputs": [
    {
     "name": "stdout",
     "output_type": "stream",
     "text": [
      "Note de Juliette par recherche linéaire: 7.59\n",
      "Temps d'exécution:  0.00 secondes\n"
     ]
    }
   ],
   "source": [
    "temp_debut = time.time()\n",
    "resultaat = recherche_lineaire(donnes,'Juliette')\n",
    "temp_fin = time.time()\n",
    "\n",
    "print(f'Note de Juliette par recherche linéaire: {resultaat}')\n",
    "print(f'Temps d\\'exécution:  {temp_fin - temp_debut:.2f} secondes')"
   ]
  },
  {
   "cell_type": "code",
   "execution_count": 10,
   "metadata": {},
   "outputs": [],
   "source": [
    "def recherche_dichotomique(d,target):\n",
    "    debut = 0\n",
    "    fin = len(d) -1\n",
    "\n",
    "    while debut <= fin:\n",
    "        mid = (debut + fin) // 2\n",
    "\n",
    "        if d[mid][0] == target:\n",
    "            return d[mid]\n",
    "        elif d[mid][0] < target:\n",
    "            fin = mid +1\n",
    "        else:\n",
    "            fin = mid +1\n",
    "    \n",
    "    return -1\n"
   ]
  },
  {
   "cell_type": "code",
   "execution_count": 11,
   "metadata": {},
   "outputs": [
    {
     "ename": "TypeError",
     "evalue": "object of type 'NoneType' has no len()",
     "output_type": "error",
     "traceback": [
      "\u001b[1;31m---------------------------------------------------------------------------\u001b[0m",
      "\u001b[1;31mTypeError\u001b[0m                                 Traceback (most recent call last)",
      "Cell \u001b[1;32mIn[11], line 3\u001b[0m\n\u001b[0;32m      1\u001b[0m donnes_tri \u001b[38;5;241m=\u001b[39m donnes\u001b[38;5;241m.\u001b[39msort()\n\u001b[0;32m      2\u001b[0m temp_debut \u001b[38;5;241m=\u001b[39m time\u001b[38;5;241m.\u001b[39mtime()\n\u001b[1;32m----> 3\u001b[0m resultaat2 \u001b[38;5;241m=\u001b[39m \u001b[43mrecherche_dichotomique\u001b[49m\u001b[43m(\u001b[49m\u001b[43mdonnes_tri\u001b[49m\u001b[43m,\u001b[49m\u001b[38;5;124;43m'\u001b[39;49m\u001b[38;5;124;43mJuliette\u001b[39;49m\u001b[38;5;124;43m'\u001b[39;49m\u001b[43m)\u001b[49m\n\u001b[0;32m      4\u001b[0m temp_fin \u001b[38;5;241m=\u001b[39m time\u001b[38;5;241m.\u001b[39mtime()\n\u001b[0;32m      6\u001b[0m \u001b[38;5;28mprint\u001b[39m(\u001b[38;5;124mf\u001b[39m\u001b[38;5;124m'\u001b[39m\u001b[38;5;124mNote de Juliette par recherche binaire: \u001b[39m\u001b[38;5;132;01m{\u001b[39;00mresultaat2\u001b[38;5;132;01m}\u001b[39;00m\u001b[38;5;124m'\u001b[39m)\n",
      "Cell \u001b[1;32mIn[10], line 3\u001b[0m, in \u001b[0;36mrecherche_dichotomique\u001b[1;34m(d, target)\u001b[0m\n\u001b[0;32m      1\u001b[0m \u001b[38;5;28;01mdef\u001b[39;00m \u001b[38;5;21mrecherche_dichotomique\u001b[39m(d,target):\n\u001b[0;32m      2\u001b[0m     debut \u001b[38;5;241m=\u001b[39m \u001b[38;5;241m0\u001b[39m\n\u001b[1;32m----> 3\u001b[0m     fin \u001b[38;5;241m=\u001b[39m \u001b[38;5;28;43mlen\u001b[39;49m\u001b[43m(\u001b[49m\u001b[43md\u001b[49m\u001b[43m)\u001b[49m \u001b[38;5;241m-\u001b[39m\u001b[38;5;241m1\u001b[39m\n\u001b[0;32m      5\u001b[0m     \u001b[38;5;28;01mwhile\u001b[39;00m debut \u001b[38;5;241m<\u001b[39m\u001b[38;5;241m=\u001b[39m fin:\n\u001b[0;32m      6\u001b[0m         mid \u001b[38;5;241m=\u001b[39m (debut \u001b[38;5;241m+\u001b[39m fin) \u001b[38;5;241m/\u001b[39m\u001b[38;5;241m/\u001b[39m \u001b[38;5;241m2\u001b[39m\n",
      "\u001b[1;31mTypeError\u001b[0m: object of type 'NoneType' has no len()"
     ]
    }
   ],
   "source": [
    "donnes_tri = donnes.sort()\n",
    "temp_debut = time.time()\n",
    "resultaat2 = recherche_dichotomique(donnes_tri,'Juliette')\n",
    "temp_fin = time.time()\n",
    "\n",
    "print(f'Note de Juliette par recherche binaire: {resultaat2}')\n",
    "print(f'Temps d\\'exécution:  {temp_fin - temp_debut:.2f} secondes')"
   ]
  },
  {
   "cell_type": "code",
   "execution_count": null,
   "metadata": {},
   "outputs": [],
   "source": []
  }
 ],
 "metadata": {
  "kernelspec": {
   "display_name": "Python 3",
   "language": "python",
   "name": "python3"
  },
  "language_info": {
   "codemirror_mode": {
    "name": "ipython",
    "version": 3
   },
   "file_extension": ".py",
   "mimetype": "text/x-python",
   "name": "python",
   "nbconvert_exporter": "python",
   "pygments_lexer": "ipython3",
   "version": "3.11.4"
  }
 },
 "nbformat": 4,
 "nbformat_minor": 2
}
