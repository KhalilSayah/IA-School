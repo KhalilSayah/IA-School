{
 "cells": [
  {
   "cell_type": "markdown",
   "id": "2172ad36",
   "metadata": {},
   "source": [
    "Énoncé de l&#39;exercice :\n",
    "\n",
    "Titre : Algorithmes de recherche sur une base de données simulée\n",
    "Objectif : Vous allez travailler avec une liste de personnes, chacune ayant une note. Cette\n",
    "liste simulera une base de données et vous devrez appliquer différents algorithmes de\n",
    "recherche dessus. L&#39;objectif est de comparer les temps d&#39;exécution des algorithmes de\n",
    "recherche pour une liste de taille variable."
   ]
  },
  {
   "cell_type": "markdown",
   "id": "cb9b8eb7",
   "metadata": {},
   "source": [
    "1. Étape 1 : Chargement des données\n",
    "○ Créer une fonction load_person_data(filename, n) qui permet de charger une\n",
    "liste de personnes avec leurs notes depuis un fichier CSV. Chaque ligne du\n",
    "fichier contient le nom d&#39;une personne et sa note.\n",
    "○ La fonction prend le paramètre n en entrée, et renvoie les n premiers\n",
    "éléments du fichier."
   ]
  },
  {
   "cell_type": "code",
   "execution_count": 30,
   "id": "dd8a6a63",
   "metadata": {},
   "outputs": [
    {
     "name": "stdout",
     "output_type": "stream",
     "text": [
      "[('Alex', 8.8), ('Marie', 13.74), ('Lucas', 11.77), ('Emma', 7.88), ('Paul', 3.17), ('Laura', 0.49), ('Hugo', 8.32), ('Chloe', 16.85), ('Maxime', 10.42), ('Sophie', 13.94), ('Nathan', 3.0), ('Camille', 10.09), ('Thomas', 10.14), ('Juliette', 7.59), ('Matthieu', 14.22), ('Manon', 5.7), ('Leo', 8.61), ('Sarah', 18.95), ('Antoine', 0.76), ('Lucie', 5.94), ('Julien', 6.24), ('Clara', 4.45), ('Romain', 4.2), ('Elise', 4.93), ('Pierre', 9.85), ('Alicia', 5.58), ('Bastien', 15.45), ('Eva', 19.03), ('David', 6.03), ('Alice', 8.55), ('Quentin', 5.41), ('Jeanne', 9.78), ('Arthur', 9.77), ('Louise', 6.49), ('Benoit', 0.95), ('Lea', 10.92), ('Gaetan', 1.91), ('Margaux', 4.78), ('Jeremy', 4.85), ('Amandine', 6.71), ('Florian', 2.43), ('Anais', 6.47), ('Cedric', 7.1), ('Marine', 4.34), ('Guillaume', 10.16), ('Mathilde', 15.46), ('Vincent', 18.74), ('Charlotte', 1.91), ('Kevin', 8.07), ('Marion', 4.63), ('Dylan', 4.43), ('Nina', 9.6), ('Mickael', 2.19), ('Celine', 10.11), ('Fabien', 10.25), ('Aurelie', 17.98), ('Benjamin', 3.36), ('Elsa', 18.57), ('Adrien', 16.39), ('Julie', 15.83), ('Sebastien', 19.4), ('Eva', 14.83), ('Morgane', 18.24), ('Alexandre', 2.85), ('Melissa', 13.35), ('Esteban', 12.91), ('Clotilde', 8.02), ('Damien', 0.02), ('Nathalie', 7.84), ('Yohan', 15.12), ('Eric', 14.92), ('Veronique', 3.23), ('Sacha', 17.9), ('Helene', 1.01), ('Gauthier', 17.8), ('Stephanie', 3.01), ('Olivier', 14.16), ('Fanny', 4.89), ('Raphael', 14.08), ('Isabelle', 4.52), ('Max', 9.87), ('Clemence', 14.08), ('Alain', 4.29), ('Julie', 11.93), ('Frederic', 12.54), ('Luc', 4.06), ('Karine', 13.4), ('Jean', 8.4), ('Catherine', 7.58), ('Patrick', 17.99), ('Sandrine', 7.44), ('Henri', 15.38), ('Marc', 18.15), ('Virginie', 19.64), ('Lionel', 11.42), ('Sabrina', 3.27), ('Jerome', 1.58), ('Eve', 12.82), ('Jean-Baptiste', 5.62), ('Christine', 6.36)]\n"
     ]
    }
   ],
   "source": [
    "import pandas as pd\n",
    "\n",
    "def load_person_data(filename, n):\n",
    "    data = pd.read_csv(filename, header=None, names=['Name', 'Grade'])\n",
    "    # Retourner les n premières lignes sous forme de liste de tuples\n",
    "    return list(data.head(n).itertuples(index=False, name=None))\n",
    "\n",
    "L = load_person_data('person_data.csv', 100)\n",
    "print(L)\n",
    "\n",
    "    "
   ]
  },
  {
   "cell_type": "markdown",
   "id": "e434312f",
   "metadata": {},
   "source": [
    "2. Étape 2 : Recherche\n",
    "○ Utilisez les algorithmes de recherche suivants pour trouver une personne\n",
    "dans la liste en fonction de son nom ou de sa note :\n",
    "■ Recherche linéaire\n",
    "■ Recherche dichotomique (binaire) (la liste doit être triée)\n",
    "○ PS : En premier, chercher la note de “Juliette” sur les 20 premiers étudiants\n",
    "■ En second, récupérer toute la liste, et chercher “Yohan”\n",
    "■ Time %time, tm_debut , tm_fin"
   ]
  },
  {
   "cell_type": "code",
   "execution_count": 44,
   "id": "406a7185",
   "metadata": {},
   "outputs": [],
   "source": [
    "def lineaire(x, L):\n",
    "    for i in range(len(L)):\n",
    "        name, grade = L[i] \n",
    "        if name == x:\n",
    "            return f\"Élément '{x}' TROUVÉ À LA POSITION {i} AVEC LA NOTE {grade}\"\n",
    "    else:\n",
    "        return False\n"
   ]
  },
  {
   "cell_type": "code",
   "execution_count": 45,
   "id": "e06d8e11",
   "metadata": {},
   "outputs": [],
   "source": [
    "x=\"Yohan\""
   ]
  },
  {
   "cell_type": "code",
   "execution_count": 46,
   "id": "40182826",
   "metadata": {},
   "outputs": [
    {
     "name": "stdout",
     "output_type": "stream",
     "text": [
      "Élément 'Yohan' TROUVÉ À LA POSITION 69 AVEC LA NOTE 15.12\n"
     ]
    }
   ],
   "source": [
    "resultat_lineaire=lineaire(x,L)\n",
    "print(result)"
   ]
  },
  {
   "cell_type": "code",
   "execution_count": 47,
   "id": "e3b64ceb",
   "metadata": {},
   "outputs": [],
   "source": [
    "def bineaire(x, L):\n",
    "    L.sort()\n",
    "    gauche = 0\n",
    "    droite = len(L) - 1\n",
    "    \n",
    "\n",
    "    while gauche <= droite:\n",
    "        milieu = (gauche + droite) // 2\n",
    "        name, grade = L[milieu]  # Déstructuration du tuple\n",
    "        \n",
    "        if x == name:\n",
    "            return f\"Élément '{x}' TROUVÉ À LA POSITION {milieu} AVEC LA NOTE {grade}\"\n",
    "        elif x < name:\n",
    "            droite = milieu - 1\n",
    "        else:\n",
    "            gauche = milieu + 1\n",
    "    \n",
    "    return False\n"
   ]
  },
  {
   "cell_type": "code",
   "execution_count": 48,
   "id": "21dd2dab",
   "metadata": {},
   "outputs": [
    {
     "name": "stdout",
     "output_type": "stream",
     "text": [
      "Élément 'Yohan' TROUVÉ À LA POSITION 99 AVEC LA NOTE 15.12\n"
     ]
    }
   ],
   "source": [
    "\n",
    "resultat_bineaire=bineaire(\"Yohan\",L)\n",
    "print(resultat_bineaire)"
   ]
  },
  {
   "cell_type": "code",
   "execution_count": null,
   "id": "a9df2edf",
   "metadata": {},
   "outputs": [],
   "source": []
  },
  {
   "cell_type": "markdown",
   "id": "cfb7e0a7",
   "metadata": {},
   "source": [
    "3. Étape 3 : Créer une fonction générale qui prend en paramètres un nom, un\n",
    "dataframe, et un algorithme de recherche. Cette fonction doit retourner la note\n",
    "correspondante au nom recherché ainsi que le temps d&#39;exécution de l&#39;algorithme."
   ]
  },
  {
   "cell_type": "code",
   "execution_count": 52,
   "id": "5e6b7b4a",
   "metadata": {},
   "outputs": [],
   "source": [
    "import time\n",
    "\n",
    "def main(name, df, search_algorithm):\n",
    "\n",
    "    start_time = time.time()\n",
    "    \n",
    "    result = search_algorithm(name, L)\n",
    "    \n",
    "    execution_time = time.time() - start_time\n",
    "\n",
    "    return result, execution_time\n"
   ]
  },
  {
   "cell_type": "code",
   "execution_count": 53,
   "id": "129ebf0c",
   "metadata": {},
   "outputs": [],
   "source": [
    "resultat_lineaire=main(\"Juliette\",L,lineaire)"
   ]
  },
  {
   "cell_type": "code",
   "execution_count": 54,
   "id": "4eafe833",
   "metadata": {},
   "outputs": [
    {
     "name": "stdout",
     "output_type": "stream",
     "text": [
      "(\"Élément 'Juliette' TROUVÉ À LA POSITION 54 AVEC LA NOTE 7.59\", 1.8835067749023438e-05)\n"
     ]
    }
   ],
   "source": [
    "print(resultat_lineaire)"
   ]
  },
  {
   "cell_type": "code",
   "execution_count": 55,
   "id": "6d88adb2",
   "metadata": {},
   "outputs": [],
   "source": [
    "resultat_bineaire=main(\"Juliette\",L,bineaire)"
   ]
  },
  {
   "cell_type": "code",
   "execution_count": 56,
   "id": "b04db610",
   "metadata": {},
   "outputs": [
    {
     "name": "stdout",
     "output_type": "stream",
     "text": [
      "(\"Élément 'Juliette' TROUVÉ À LA POSITION 54 AVEC LA NOTE 7.59\", 3.600120544433594e-05)\n"
     ]
    }
   ],
   "source": [
    "print(resultat_bineaire)"
   ]
  },
  {
   "cell_type": "markdown",
   "id": "6d25c86a",
   "metadata": {},
   "source": [
    "4. Étape 4 : Mesure des performances\n",
    "○ Mesurer les performances en simulant les deux algorithmes sur des données\n",
    "de taille variable, allant de 10 à 100."
   ]
  },
  {
   "cell_type": "code",
   "execution_count": 66,
   "id": "e35d89ff",
   "metadata": {},
   "outputs": [],
   "source": [
    "import pandas as pd\n",
    "import random\n",
    "import time\n",
    "import matplotlib.pyplot as plt\n",
    "\n",
    "def data(n):\n",
    "    names = [f\"Person_{i}\" for i in range(n)]\n",
    "    grades = [random.randint(50, 100) for _ in range(n)]\n",
    "    return pd.DataFrame({'Name': names, 'Grade': grades})\n",
    "\n",
    "\n",
    "def measure_performance():\n",
    "    sizes = range(10, 101, 10) \n",
    "    linear_times = []\n",
    "    binary_times = []\n",
    "    \n",
    "    for size in sizes:\n",
    "\n",
    "        df = data(size)\n",
    "        \n",
    "        target_name = random.choice(df['Name'])\n",
    "        \n",
    "\n",
    "        linear_time = main(target_name, df, lineaire)\n",
    "        linear_times.append(linear_time)\n",
    "        \n",
    "\n",
    "        df_sorted = df.sort_values(by='Name')\n",
    "        \n",
    "\n",
    "        binary_time = main(target_name, df_sorted, bineaire)\n",
    "        binary_times.append(binary_time)\n",
    "    \n",
    "    return sizes, linear_times, binary_times\n",
    "\n",
    "\n"
   ]
  },
  {
   "cell_type": "markdown",
   "id": "4d4d3703",
   "metadata": {},
   "source": [
    "5. Étape 5 : Résultats\n",
    "○ Présentez vos résultats sous forme de tableau comparatif des temps pour\n",
    "chaque algorithme et chaque taille de liste."
   ]
  },
  {
   "cell_type": "code",
   "execution_count": 67,
   "id": "ff128a9b",
   "metadata": {},
   "outputs": [
    {
     "name": "stdout",
     "output_type": "stream",
     "text": [
      "   Taille des données  Temps recherche linéaire (s)  \\\n",
      "0                  10                      0.000833   \n",
      "1                  20                      0.000005   \n",
      "2                  30                      0.000006   \n",
      "3                  40                      0.000005   \n",
      "4                  50                      0.000004   \n",
      "5                  60                      0.000005   \n",
      "6                  70                      0.000005   \n",
      "7                  80                      0.000005   \n",
      "8                  90                      0.000004   \n",
      "9                 100                      0.000005   \n",
      "\n",
      "   Temps recherche binaire (s)  \n",
      "0                     0.000016  \n",
      "1                     0.000009  \n",
      "2                     0.000006  \n",
      "3                     0.000005  \n",
      "4                     0.000005  \n",
      "5                     0.000005  \n",
      "6                     0.000006  \n",
      "7                     0.000005  \n",
      "8                     0.000004  \n",
      "9                     0.000004  \n"
     ]
    }
   ],
   "source": [
    "import pandas as pd\n",
    "\n",
    "def create_comparison_table(sizes, linear_times, binary_times):\n",
    "    df_comparison = pd.DataFrame({\n",
    "        'Taille des données': sizes,\n",
    "        'Temps recherche linéaire (s)': linear_times,\n",
    "        'Temps recherche binaire (s)': binary_times\n",
    "    })\n",
    "    \n",
    "\n",
    "    return df_comparison\n",
    "\n",
    "df_comparison = create_comparison_table(sizes, linear_times, binary_times)\n",
    "print(df_comparison)\n"
   ]
  },
  {
   "cell_type": "markdown",
   "id": "15538855",
   "metadata": {},
   "source": [
    "Le tableau montre clairement que le temps de la recherche linéaire augmente presque linéairement avec la taille des données.\n",
    "Le temps de la recherche binaire augmente beaucoup plus lentement, montrant que cet algorithme est plus efficace, surtout pour de grandes quantités de données."
   ]
  },
  {
   "cell_type": "code",
   "execution_count": null,
   "id": "dbb49836",
   "metadata": {},
   "outputs": [],
   "source": []
  }
 ],
 "metadata": {
  "kernelspec": {
   "display_name": "Python 3 (ipykernel)",
   "language": "python",
   "name": "python3"
  },
  "language_info": {
   "codemirror_mode": {
    "name": "ipython",
    "version": 3
   },
   "file_extension": ".py",
   "mimetype": "text/x-python",
   "name": "python",
   "nbconvert_exporter": "python",
   "pygments_lexer": "ipython3",
   "version": "3.11.5"
  }
 },
 "nbformat": 4,
 "nbformat_minor": 5
}
