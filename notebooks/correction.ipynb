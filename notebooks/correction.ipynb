{
 "cells": [
  {
   "cell_type": "code",
   "execution_count": 3,
   "metadata": {},
   "outputs": [
    {
     "name": "stdout",
     "output_type": "stream",
     "text": [
      "Requirement already satisfied: pandas in c:\\users\\sayah\\anaconda3\\lib\\site-packages (2.2.2)\n",
      "Requirement already satisfied: numpy>=1.26.0 in c:\\users\\sayah\\anaconda3\\lib\\site-packages (from pandas) (1.26.4)\n",
      "Requirement already satisfied: python-dateutil>=2.8.2 in c:\\users\\sayah\\anaconda3\\lib\\site-packages (from pandas) (2.9.0.post0)\n",
      "Requirement already satisfied: pytz>=2020.1 in c:\\users\\sayah\\anaconda3\\lib\\site-packages (from pandas) (2024.1)\n",
      "Requirement already satisfied: tzdata>=2022.7 in c:\\users\\sayah\\anaconda3\\lib\\site-packages (from pandas) (2023.3)\n",
      "Requirement already satisfied: six>=1.5 in c:\\users\\sayah\\anaconda3\\lib\\site-packages (from python-dateutil>=2.8.2->pandas) (1.16.0)\n"
     ]
    }
   ],
   "source": [
    "!pip install pandas"
   ]
  },
  {
   "cell_type": "code",
   "execution_count": 73,
   "metadata": {},
   "outputs": [],
   "source": [
    "import pandas as pd\n",
    "import time"
   ]
  },
  {
   "cell_type": "code",
   "execution_count": 14,
   "metadata": {},
   "outputs": [],
   "source": [
    "filename = \"../data/person_data.csv\""
   ]
  },
  {
   "cell_type": "code",
   "execution_count": 50,
   "metadata": {},
   "outputs": [],
   "source": [
    "# Fonction (file.csv, int) -> df\n",
    "\n",
    "def load_person_data(filename:str, n:int)-> pd.DataFrame:\n",
    "    df = pd.read_csv(filename, names=['Nom', 'Note'], header=None)\n",
    "    #df_trie = df.sort_values(by=\"Nom\")\n",
    "    return df.head(n)\n",
    "    "
   ]
  },
  {
   "cell_type": "code",
   "execution_count": 51,
   "metadata": {},
   "outputs": [],
   "source": [
    "# Recherche linaire\n",
    "def recherche_linaire(df:pd.DataFrame, cible:str)->float:\n",
    "    # DF n'est pas forcement trié\n",
    "    noms = df['Nom'].to_list()\n",
    "\n",
    "    for i in range(len(noms)):\n",
    "        if noms[i] == cible:\n",
    "            index_cible = i\n",
    "            return df.loc[index_cible]['Note']"
   ]
  },
  {
   "cell_type": "code",
   "execution_count": 58,
   "metadata": {},
   "outputs": [],
   "source": [
    "# Recherche binaire\n",
    "\n",
    "def recherche_binaire(df:pd.DataFrame, cible:str) ->float:\n",
    "    # DF est non trié\n",
    "    df = df.sort_values(by=\"Nom\")\n",
    "    noms = df['Nom'].to_list()\n",
    "    low, high = 0, len(noms)-1\n",
    "\n",
    "    while low <= high:\n",
    "        mid = (low+high) //2\n",
    "        if noms[mid]==cible:\n",
    "            return df.iloc[mid][\"Note\"]\n",
    "        elif noms[mid] < cible :\n",
    "            low = mid + 1\n",
    "        else:\n",
    "            high = mid -1\n",
    "\n",
    "    return None\n"
   ]
  },
  {
   "cell_type": "code",
   "execution_count": 74,
   "metadata": {},
   "outputs": [],
   "source": [
    "def fun_gen(df:pd.DataFrame, cible:str, algorithm):\n",
    "\n",
    "    start_time = time.time()\n",
    "    note = algorithm(cible=cible, df=df)\n",
    "    end_time = time.time()\n",
    "\n",
    "    exec_time = end_time - start_time\n",
    "\n",
    "    return note, exec_time \n",
    "\n",
    "    \n",
    "    "
   ]
  },
  {
   "cell_type": "code",
   "execution_count": 78,
   "metadata": {},
   "outputs": [],
   "source": [
    "df = load_person_data(filename, 30)"
   ]
  },
  {
   "cell_type": "code",
   "execution_count": 83,
   "metadata": {},
   "outputs": [
    {
     "data": {
      "text/plain": [
       "(8.32, 0.0)"
      ]
     },
     "execution_count": 83,
     "metadata": {},
     "output_type": "execute_result"
    }
   ],
   "source": [
    "fun_gen(cible=\"Hugo\", algorithm=recherche_linaire, df=df )"
   ]
  },
  {
   "cell_type": "code",
   "execution_count": 89,
   "metadata": {},
   "outputs": [],
   "source": [
    "def performance_test(filename):\n",
    "    sizes  = range(10,101,10)\n",
    "    resultat = []\n",
    "\n",
    "    for s in sizes:\n",
    "        df = load_person_data(filename=filename, n=s)\n",
    "\n",
    "        _, tmp_lineaire = fun_gen(df, \"Alex\", recherche_linaire)\n",
    "        _, tmp_binaire = fun_gen(df, \"Alex\", recherche_binaire)\n",
    "\n",
    "        resultat.append((s, tmp_lineaire,tmp_binaire))\n",
    "\n",
    "    return resultat\n"
   ]
  },
  {
   "cell_type": "code",
   "execution_count": 108,
   "metadata": {},
   "outputs": [],
   "source": [
    "resultat_test = performance_test(filename=filename)"
   ]
  },
  {
   "cell_type": "code",
   "execution_count": 109,
   "metadata": {},
   "outputs": [],
   "source": [
    "resultat = pd.DataFrame(resultat_test, columns=[\"taille\",\"temps Linaire\", \"temps Binaire\"])"
   ]
  },
  {
   "cell_type": "code",
   "execution_count": 110,
   "metadata": {},
   "outputs": [
    {
     "data": {
      "text/html": [
       "<div>\n",
       "<style scoped>\n",
       "    .dataframe tbody tr th:only-of-type {\n",
       "        vertical-align: middle;\n",
       "    }\n",
       "\n",
       "    .dataframe tbody tr th {\n",
       "        vertical-align: top;\n",
       "    }\n",
       "\n",
       "    .dataframe thead th {\n",
       "        text-align: right;\n",
       "    }\n",
       "</style>\n",
       "<table border=\"1\" class=\"dataframe\">\n",
       "  <thead>\n",
       "    <tr style=\"text-align: right;\">\n",
       "      <th></th>\n",
       "      <th>taille</th>\n",
       "      <th>temps Linaire</th>\n",
       "      <th>temps Binaire</th>\n",
       "    </tr>\n",
       "  </thead>\n",
       "  <tbody>\n",
       "    <tr>\n",
       "      <th>0</th>\n",
       "      <td>10</td>\n",
       "      <td>0.000000</td>\n",
       "      <td>0.001007</td>\n",
       "    </tr>\n",
       "    <tr>\n",
       "      <th>1</th>\n",
       "      <td>20</td>\n",
       "      <td>0.000000</td>\n",
       "      <td>0.000500</td>\n",
       "    </tr>\n",
       "    <tr>\n",
       "      <th>2</th>\n",
       "      <td>30</td>\n",
       "      <td>0.000000</td>\n",
       "      <td>0.000501</td>\n",
       "    </tr>\n",
       "    <tr>\n",
       "      <th>3</th>\n",
       "      <td>40</td>\n",
       "      <td>0.000000</td>\n",
       "      <td>0.000499</td>\n",
       "    </tr>\n",
       "    <tr>\n",
       "      <th>4</th>\n",
       "      <td>50</td>\n",
       "      <td>0.000000</td>\n",
       "      <td>0.000500</td>\n",
       "    </tr>\n",
       "    <tr>\n",
       "      <th>5</th>\n",
       "      <td>60</td>\n",
       "      <td>0.000000</td>\n",
       "      <td>0.000000</td>\n",
       "    </tr>\n",
       "    <tr>\n",
       "      <th>6</th>\n",
       "      <td>70</td>\n",
       "      <td>0.001007</td>\n",
       "      <td>0.000000</td>\n",
       "    </tr>\n",
       "    <tr>\n",
       "      <th>7</th>\n",
       "      <td>80</td>\n",
       "      <td>0.000000</td>\n",
       "      <td>0.000501</td>\n",
       "    </tr>\n",
       "    <tr>\n",
       "      <th>8</th>\n",
       "      <td>90</td>\n",
       "      <td>0.000000</td>\n",
       "      <td>0.000000</td>\n",
       "    </tr>\n",
       "    <tr>\n",
       "      <th>9</th>\n",
       "      <td>100</td>\n",
       "      <td>0.000000</td>\n",
       "      <td>0.000000</td>\n",
       "    </tr>\n",
       "  </tbody>\n",
       "</table>\n",
       "</div>"
      ],
      "text/plain": [
       "   taille  temps Linaire  temps Binaire\n",
       "0      10       0.000000       0.001007\n",
       "1      20       0.000000       0.000500\n",
       "2      30       0.000000       0.000501\n",
       "3      40       0.000000       0.000499\n",
       "4      50       0.000000       0.000500\n",
       "5      60       0.000000       0.000000\n",
       "6      70       0.001007       0.000000\n",
       "7      80       0.000000       0.000501\n",
       "8      90       0.000000       0.000000\n",
       "9     100       0.000000       0.000000"
      ]
     },
     "execution_count": 110,
     "metadata": {},
     "output_type": "execute_result"
    }
   ],
   "source": [
    "resultat"
   ]
  },
  {
   "cell_type": "code",
   "execution_count": 111,
   "metadata": {},
   "outputs": [],
   "source": [
    "list_test = [1,2,3,4,5,6,7,8,9,10,11,12]"
   ]
  },
  {
   "cell_type": "code",
   "execution_count": 112,
   "metadata": {},
   "outputs": [],
   "source": [
    "def sum1(l):\n",
    "    total = 0  #1\n",
    "    for i in range(len(l)): #si l est de taille n , n fois  au total : n+2      O(n)\n",
    "        total += l[i] #1 \n",
    "    return total"
   ]
  },
  {
   "cell_type": "code",
   "execution_count": 113,
   "metadata": {},
   "outputs": [
    {
     "data": {
      "text/plain": [
       "78"
      ]
     },
     "execution_count": 113,
     "metadata": {},
     "output_type": "execute_result"
    }
   ],
   "source": [
    "sum1(list_test)"
   ]
  },
  {
   "cell_type": "code",
   "execution_count": 115,
   "metadata": {},
   "outputs": [],
   "source": [
    "def sum2(l):\n",
    "    return (len(l) * (len(l)+1)//2) # 1   O(1) "
   ]
  },
  {
   "cell_type": "code",
   "execution_count": 117,
   "metadata": {},
   "outputs": [
    {
     "data": {
      "text/plain": [
       "78"
      ]
     },
     "execution_count": 117,
     "metadata": {},
     "output_type": "execute_result"
    }
   ],
   "source": [
    "sum2(list_test)"
   ]
  },
  {
   "cell_type": "code",
   "execution_count": 18,
   "metadata": {},
   "outputs": [],
   "source": [
    "import random\n",
    "random_values = [random.randint(0, 100) for _ in range(50)]"
   ]
  },
  {
   "cell_type": "code",
   "execution_count": 19,
   "metadata": {},
   "outputs": [],
   "source": [
    "import matplotlib.pyplot as plt "
   ]
  },
  {
   "cell_type": "code",
   "execution_count": 14,
   "metadata": {},
   "outputs": [],
   "source": [
    "import matplotlib.animation as animation\n"
   ]
  },
  {
   "cell_type": "markdown",
   "metadata": {},
   "source": [
    "# Function qui va faire la recherche linaire\n",
    "\n",
    "# Function qui va faire la visualisation (Animation)\n",
    "    # Crée une figure et des axes\n",
    "    # Crée un graph (ex. Bar)\n",
    "    # Function init (début)\n",
    "    # Function update\n",
    "    # Function generatrice  (recherche linaire)\n"
   ]
  },
  {
   "attachments": {
    "image.png": {
     "image/png": "[encoded data removed]"
    }
   },
   "cell_type": "markdown",
   "metadata": {},
   "source": [
    "![image.png](attachment:image.png)"
   ]
  },
  {
   "cell_type": "code",
   "execution_count": 35,
   "metadata": {},
   "outputs": [],
   "source": [
    "def recherche_linaire_graph(l, cible):\n",
    "    for i in range(len(l)):\n",
    "        yield i\n",
    "        if l[i] == cible:\n",
    "            return i"
   ]
  },
  {
   "cell_type": "code",
   "execution_count": 39,
   "metadata": {},
   "outputs": [],
   "source": [
    "def visualize_recherche_linaire(l:list[int], cible:int):\n",
    "    fig,ax = plt.subplots()\n",
    "\n",
    "    bars = ax.bar(\n",
    "        range(len(l)),\n",
    "        l,\n",
    "        color = 'blue'\n",
    "    )\n",
    "\n",
    "    def init():\n",
    "        for bar in bars:\n",
    "            bar.set_color(\"blue\")\n",
    "        return bars\n",
    "    \n",
    "    def update(i):\n",
    "        for bar in bars:\n",
    "            bar.set_color(\"blue\")\n",
    "        bar[i].set_color(\"red\")\n",
    "        return bars\n",
    "    \n",
    "    ani = animation.FuncAnimation(\n",
    "        fig,\n",
    "        update,\n",
    "        frames= recherche_linaire_graph(l,cible),\n",
    "        init_func= init,\n",
    "        interval = 100\n",
    "    )\n",
    "\n",
    "    plt.show()\n",
    "\n",
    "    "
   ]
  },
  {
   "cell_type": "code",
   "execution_count": 40,
   "metadata": {},
   "outputs": [
    {
     "name": "stderr",
     "output_type": "stream",
     "text": [
      "C:\\Users\\sayah\\AppData\\Local\\Temp\\ipykernel_14428\\2331952406.py:21: UserWarning: frames=<generator object recherche_linaire_graph at 0x0000020F9D758C80> which we can infer the length of, did not pass an explicit *save_count* and passed cache_frame_data=True.  To avoid a possibly unbounded cache, frame data caching has been disabled. To suppress this warning either pass `cache_frame_data=False` or `save_count=MAX_FRAMES`.\n",
      "  ani = animation.FuncAnimation(\n"
     ]
    },
    {
     "data": {
      "image/png": "[encoded data removed]",
      "text/plain": [
       "<Figure size 640x480 with 1 Axes>"
      ]
     },
     "metadata": {},
     "output_type": "display_data"
    }
   ],
   "source": [
    "visualize_recherche_linaire(random_values, 83)"
   ]
  },
  {
   "cell_type": "code",
   "execution_count": null,
   "metadata": {},
   "outputs": [],
   "source": []
  }
 ],
 "metadata": {
  "kernelspec": {
   "display_name": "base",
   "language": "python",
   "name": "python3"
  },
  "language_info": {
   "codemirror_mode": {
    "name": "ipython",
    "version": 3
   },
   "file_extension": ".py",
   "mimetype": "text/x-python",
   "name": "python",
   "nbconvert_exporter": "python",
   "pygments_lexer": "ipython3",
   "version": "3.12.4"
  }
 },
 "nbformat": 4,
 "nbformat_minor": 2
}
