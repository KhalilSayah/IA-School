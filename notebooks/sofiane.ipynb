{
 "cells": [
  {
   "cell_type": "markdown",
   "metadata": {},
   "source": [
    "## TEST\n",
    "\n"
   ]
  },
  {
   "cell_type": "code",
   "execution_count": null,
   "metadata": {},
   "outputs": [],
   "source": []
  },
  {
   "cell_type": "code",
   "execution_count": 10,
   "metadata": {},
   "outputs": [
    {
     "name": "stdout",
     "output_type": "stream",
     "text": [
      "ce prof c'est haja le top\n"
     ]
    }
   ],
   "source": [
    "print(\"ce prof c'est haja le top\")"
   ]
  },
  {
   "cell_type": "markdown",
   "metadata": {},
   "source": [
    "## algorithmique SOSO\n"
   ]
  },
  {
   "cell_type": "code",
   "execution_count": 11,
   "metadata": {},
   "outputs": [],
   "source": [
    "import pandas as pd"
   ]
  },
  {
   "cell_type": "code",
   "execution_count": 12,
   "metadata": {},
   "outputs": [],
   "source": [
    "filename = \"../data/person_data.csv\""
   ]
  },
  {
   "cell_type": "code",
   "execution_count": 36,
   "metadata": {},
   "outputs": [],
   "source": [
    "# Fonction (file.csv, int) -> df\n",
    "\n",
    "def load_person_data(filename:str, n:int)-> pd.DataFrame:\n",
    "    df = pd.read_csv(filename, names=['Nom', 'Note'], header=None)\n",
    "    df_trie = df.sort_values(by=\"Nom\")\n",
    "    return df.head(n)\n",
    "    "
   ]
  },
  {
   "cell_type": "code",
   "execution_count": 14,
   "metadata": {},
   "outputs": [],
   "source": [
    "# Recherche linaire\n",
    "def recherche_linaire(df:pd.DataFrame, cible:str)->float:\n",
    "    noms = df['Nom'].to_list()\n",
    "\n",
    "    for i in range(len(noms)):\n",
    "        if noms[i] == cible:\n",
    "            index_cible = i\n",
    "            return df.loc[index_cible]['Note']"
   ]
  },
  {
   "cell_type": "code",
   "execution_count": 15,
   "metadata": {},
   "outputs": [
    {
     "data": {
      "text/plain": [
       "np.float64(8.8)"
      ]
     },
     "execution_count": 15,
     "metadata": {},
     "output_type": "execute_result"
    }
   ],
   "source": [
    "df = load_person_data(filename, 20)\n",
    "recherche_linaire(df, \"Alex\")\n"
   ]
  },
  {
   "cell_type": "code",
   "execution_count": 40,
   "metadata": {},
   "outputs": [
    {
     "name": "stdout",
     "output_type": "stream",
     "text": [
      "         Nom   Note\n",
      "0       Alex   8.80\n",
      "1      Marie  13.74\n",
      "2      Lucas  11.77\n",
      "3       Emma   7.88\n",
      "4       Paul   3.17\n",
      "5      Laura   0.49\n",
      "6       Hugo   8.32\n",
      "7      Chloe  16.85\n",
      "8     Maxime  10.42\n",
      "9     Sophie  13.94\n",
      "10    Nathan   3.00\n",
      "11   Camille  10.09\n",
      "12    Thomas  10.14\n",
      "13  Juliette   7.59\n",
      "14  Matthieu  14.22\n",
      "15     Manon   5.70\n",
      "16       Leo   8.61\n",
      "17     Sarah  18.95\n",
      "18   Antoine   0.76\n",
      "19     Lucie   5.94\n",
      "['Alex', 'Marie', 'Lucas', 'Emma', 'Paul', 'Laura', 'Hugo', 'Chloe', 'Maxime', 'Sophie', 'Nathan', 'Camille', 'Thomas', 'Juliette', 'Matthieu', 'Manon', 'Leo', 'Sarah', 'Antoine', 'Lucie']\n"
     ]
    },
    {
     "data": {
      "text/plain": [
       "np.float64(8.8)"
      ]
     },
     "execution_count": 40,
     "metadata": {},
     "output_type": "execute_result"
    }
   ],
   "source": [
    "# Recherche bineaire\n",
    "df = load_person_data(filename,20)\n",
    "print(df)\n",
    "def recherche_binaire(df:pd.DataFrame,cible:str)->float:\n",
    "    noms = df['Nom'].to_list()\n",
    "    print(noms)\n",
    "    debut = 0\n",
    "    fin = len(noms) - 1\n",
    "    while debut <= fin:\n",
    "        milieu = (debut + fin)// 2\n",
    "        if noms[milieu] == cible:\n",
    "            return df.loc[milieu][\"Note\"]\n",
    "        elif noms[milieu] < cible:\n",
    "            debut = milieu + 1\n",
    "        else:\n",
    "            fin = milieu - 1\n",
    "    return None\n",
    "\n",
    "\n",
    "recherche_binaire(df,\"Alex\")\n",
    "\n"
   ]
  }
 ],
 "metadata": {
  "kernelspec": {
   "display_name": "Python 3",
   "language": "python",
   "name": "python3"
  },
  "language_info": {
   "codemirror_mode": {
    "name": "ipython",
    "version": 3
   },
   "file_extension": ".py",
   "mimetype": "text/x-python",
   "name": "python",
   "nbconvert_exporter": "python",
   "pygments_lexer": "ipython3",
   "version": "3.9.6"
  }
 },
 "nbformat": 4,
 "nbformat_minor": 2
}
