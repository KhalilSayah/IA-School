{
 "cells": [
  {
   "cell_type": "markdown",
   "metadata": {},
   "source": [
    "## TEST\n",
    "\n"
   ]
  },
  {
   "cell_type": "code",
   "execution_count": null,
   "metadata": {},
   "outputs": [],
   "source": []
  },
  {
   "cell_type": "code",
   "execution_count": 54,
   "metadata": {},
   "outputs": [
    {
     "name": "stdout",
     "output_type": "stream",
     "text": [
      "ce prof c'est haja le top\n"
     ]
    }
   ],
   "source": [
    "print(\"ce prof c'est haja le top\")"
   ]
  },
  {
   "cell_type": "markdown",
   "metadata": {},
   "source": [
    "## algorithmique SOSO\n"
   ]
  },
  {
   "cell_type": "code",
   "execution_count": 55,
   "metadata": {},
   "outputs": [],
   "source": [
    "import pandas as pd"
   ]
  },
  {
   "cell_type": "code",
   "execution_count": 56,
   "metadata": {},
   "outputs": [],
   "source": [
    "filename = \"../data/person_data.csv\""
   ]
  },
  {
   "cell_type": "code",
   "execution_count": 57,
   "metadata": {},
   "outputs": [],
   "source": [
    "# Fonction (file.csv, int) -> df\n",
    "\n",
    "def load_person_data(filename:str, n:int)-> pd.DataFrame:\n",
    "    df = pd.read_csv(filename, names=['Nom', 'Note'], header=None)\n",
    "    df_trie = df.sort_values(by=\"Nom\")\n",
    "    return df_trie.head(n)\n",
    "    "
   ]
  },
  {
   "cell_type": "code",
   "execution_count": 58,
   "metadata": {},
   "outputs": [],
   "source": [
    "# Recherche linaire\n",
    "def recherche_linaire(df:pd.DataFrame, cible:str)->float:\n",
    "    noms = df['Nom'].to_list()\n",
    "\n",
    "    for i in range(len(noms)):\n",
    "        if noms[i] == cible:\n",
    "            index_cible = i\n",
    "            return df.iloc[index_cible]['Note']"
   ]
  },
  {
   "cell_type": "code",
   "execution_count": 59,
   "metadata": {},
   "outputs": [
    {
     "data": {
      "text/plain": [
       "np.float64(6.71)"
      ]
     },
     "execution_count": 59,
     "metadata": {},
     "output_type": "execute_result"
    }
   ],
   "source": [
    "df = load_person_data(filename, 20)\n",
    "recherche_linaire(df, \"Amandine\")\n"
   ]
  },
  {
   "cell_type": "code",
   "execution_count": 60,
   "metadata": {},
   "outputs": [
    {
     "name": "stdout",
     "output_type": "stream",
     "text": [
      "          Nom   Note\n",
      "58     Adrien  16.39\n",
      "82      Alain   4.29\n",
      "0        Alex   8.80\n",
      "63  Alexandre   2.85\n",
      "29      Alice   8.55\n",
      "25     Alicia   5.58\n",
      "39   Amandine   6.71\n",
      "41      Anais   6.47\n",
      "18    Antoine   0.76\n",
      "32     Arthur   9.77\n",
      "55    Aurelie  17.98\n",
      "26    Bastien  15.45\n",
      "56   Benjamin   3.36\n",
      "34     Benoit   0.95\n",
      "11    Camille  10.09\n",
      "88  Catherine   7.58\n",
      "42     Cedric   7.10\n",
      "53     Celine  10.11\n",
      "47  Charlotte   1.91\n",
      "7       Chloe  16.85\n",
      "['Adrien', 'Alain', 'Alex', 'Alexandre', 'Alice', 'Alicia', 'Amandine', 'Anais', 'Antoine', 'Arthur', 'Aurelie', 'Bastien', 'Benjamin', 'Benoit', 'Camille', 'Catherine', 'Cedric', 'Celine', 'Charlotte', 'Chloe']\n"
     ]
    },
    {
     "data": {
      "text/plain": [
       "np.float64(6.71)"
      ]
     },
     "execution_count": 60,
     "metadata": {},
     "output_type": "execute_result"
    }
   ],
   "source": [
    "# Recherche binaire\n",
    "df = load_person_data(filename,20)\n",
    "print(df)\n",
    "def recherche_binaire(df:pd.DataFrame,cible:str)->float:\n",
    "    noms = df['Nom'].to_list()\n",
    "    print(noms)\n",
    "    debut = 0\n",
    "    fin = len(noms) - 1\n",
    "    while debut <= fin:\n",
    "        milieu = (debut + fin)// 2\n",
    "        if noms[milieu] == cible:\n",
    "            return df.iloc[milieu][\"Note\"]\n",
    "        elif noms[milieu] < cible:\n",
    "            debut = milieu + 1\n",
    "        else:\n",
    "            fin = milieu - 1\n",
    "    return None\n",
    "\n",
    "\n",
    "recherche_binaire(df,\"Amandine\")\n",
    "\n"
   ]
  },
  {
   "cell_type": "code",
   "execution_count": 61,
   "metadata": {},
   "outputs": [
    {
     "data": {
      "text/html": [
       "<div>\n",
       "<style scoped>\n",
       "    .dataframe tbody tr th:only-of-type {\n",
       "        vertical-align: middle;\n",
       "    }\n",
       "\n",
       "    .dataframe tbody tr th {\n",
       "        vertical-align: top;\n",
       "    }\n",
       "\n",
       "    .dataframe thead th {\n",
       "        text-align: right;\n",
       "    }\n",
       "</style>\n",
       "<table border=\"1\" class=\"dataframe\">\n",
       "  <thead>\n",
       "    <tr style=\"text-align: right;\">\n",
       "      <th></th>\n",
       "      <th>Nom</th>\n",
       "      <th>Note</th>\n",
       "    </tr>\n",
       "  </thead>\n",
       "  <tbody>\n",
       "    <tr>\n",
       "      <th>58</th>\n",
       "      <td>Adrien</td>\n",
       "      <td>16.39</td>\n",
       "    </tr>\n",
       "    <tr>\n",
       "      <th>82</th>\n",
       "      <td>Alain</td>\n",
       "      <td>4.29</td>\n",
       "    </tr>\n",
       "    <tr>\n",
       "      <th>0</th>\n",
       "      <td>Alex</td>\n",
       "      <td>8.80</td>\n",
       "    </tr>\n",
       "    <tr>\n",
       "      <th>63</th>\n",
       "      <td>Alexandre</td>\n",
       "      <td>2.85</td>\n",
       "    </tr>\n",
       "    <tr>\n",
       "      <th>29</th>\n",
       "      <td>Alice</td>\n",
       "      <td>8.55</td>\n",
       "    </tr>\n",
       "    <tr>\n",
       "      <th>25</th>\n",
       "      <td>Alicia</td>\n",
       "      <td>5.58</td>\n",
       "    </tr>\n",
       "    <tr>\n",
       "      <th>39</th>\n",
       "      <td>Amandine</td>\n",
       "      <td>6.71</td>\n",
       "    </tr>\n",
       "    <tr>\n",
       "      <th>41</th>\n",
       "      <td>Anais</td>\n",
       "      <td>6.47</td>\n",
       "    </tr>\n",
       "    <tr>\n",
       "      <th>18</th>\n",
       "      <td>Antoine</td>\n",
       "      <td>0.76</td>\n",
       "    </tr>\n",
       "    <tr>\n",
       "      <th>32</th>\n",
       "      <td>Arthur</td>\n",
       "      <td>9.77</td>\n",
       "    </tr>\n",
       "    <tr>\n",
       "      <th>55</th>\n",
       "      <td>Aurelie</td>\n",
       "      <td>17.98</td>\n",
       "    </tr>\n",
       "    <tr>\n",
       "      <th>26</th>\n",
       "      <td>Bastien</td>\n",
       "      <td>15.45</td>\n",
       "    </tr>\n",
       "    <tr>\n",
       "      <th>56</th>\n",
       "      <td>Benjamin</td>\n",
       "      <td>3.36</td>\n",
       "    </tr>\n",
       "    <tr>\n",
       "      <th>34</th>\n",
       "      <td>Benoit</td>\n",
       "      <td>0.95</td>\n",
       "    </tr>\n",
       "    <tr>\n",
       "      <th>11</th>\n",
       "      <td>Camille</td>\n",
       "      <td>10.09</td>\n",
       "    </tr>\n",
       "    <tr>\n",
       "      <th>88</th>\n",
       "      <td>Catherine</td>\n",
       "      <td>7.58</td>\n",
       "    </tr>\n",
       "    <tr>\n",
       "      <th>42</th>\n",
       "      <td>Cedric</td>\n",
       "      <td>7.10</td>\n",
       "    </tr>\n",
       "    <tr>\n",
       "      <th>53</th>\n",
       "      <td>Celine</td>\n",
       "      <td>10.11</td>\n",
       "    </tr>\n",
       "    <tr>\n",
       "      <th>47</th>\n",
       "      <td>Charlotte</td>\n",
       "      <td>1.91</td>\n",
       "    </tr>\n",
       "    <tr>\n",
       "      <th>7</th>\n",
       "      <td>Chloe</td>\n",
       "      <td>16.85</td>\n",
       "    </tr>\n",
       "  </tbody>\n",
       "</table>\n",
       "</div>"
      ],
      "text/plain": [
       "          Nom   Note\n",
       "58     Adrien  16.39\n",
       "82      Alain   4.29\n",
       "0        Alex   8.80\n",
       "63  Alexandre   2.85\n",
       "29      Alice   8.55\n",
       "25     Alicia   5.58\n",
       "39   Amandine   6.71\n",
       "41      Anais   6.47\n",
       "18    Antoine   0.76\n",
       "32     Arthur   9.77\n",
       "55    Aurelie  17.98\n",
       "26    Bastien  15.45\n",
       "56   Benjamin   3.36\n",
       "34     Benoit   0.95\n",
       "11    Camille  10.09\n",
       "88  Catherine   7.58\n",
       "42     Cedric   7.10\n",
       "53     Celine  10.11\n",
       "47  Charlotte   1.91\n",
       "7       Chloe  16.85"
      ]
     },
     "execution_count": 61,
     "metadata": {},
     "output_type": "execute_result"
    }
   ],
   "source": []
  }
 ],
 "metadata": {
  "kernelspec": {
   "display_name": "Python 3",
   "language": "python",
   "name": "python3"
  },
  "language_info": {
   "codemirror_mode": {
    "name": "ipython",
    "version": 3
   },
   "file_extension": ".py",
   "mimetype": "text/x-python",
   "name": "python",
   "nbconvert_exporter": "python",
   "pygments_lexer": "ipython3",
   "version": "3.9.6"
  }
 },
 "nbformat": 4,
 "nbformat_minor": 2
}
