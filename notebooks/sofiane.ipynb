{
 "cells": [
  {
   "cell_type": "markdown",
   "metadata": {},
   "source": [
    "## TEST\n",
    "\n"
   ]
  },
  {
   "cell_type": "code",
   "execution_count": null,
   "metadata": {},
   "outputs": [],
   "source": []
  },
  {
   "cell_type": "code",
   "execution_count": 83,
   "metadata": {},
   "outputs": [
    {
     "name": "stdout",
     "output_type": "stream",
     "text": [
      "ce prof c'est haja le top\n"
     ]
    }
   ],
   "source": [
    "print(\"ce prof c'est haja le top\")"
   ]
  },
  {
   "cell_type": "markdown",
   "metadata": {},
   "source": [
    "## algorithmique SOSO\n"
   ]
  },
  {
   "cell_type": "code",
   "execution_count": 84,
   "metadata": {},
   "outputs": [],
   "source": [
    "import pandas as pd"
   ]
  },
  {
   "cell_type": "code",
   "execution_count": 85,
   "metadata": {},
   "outputs": [],
   "source": [
    "filename = \"../data/person_data.csv\""
   ]
  },
  {
   "cell_type": "code",
   "execution_count": 86,
   "metadata": {},
   "outputs": [],
   "source": [
    "# Fonction (file.csv, int) -> df\n",
    "\n",
    "def load_person_data(filename:str, n:int)-> pd.DataFrame:\n",
    "    df = pd.read_csv(filename, names=['Nom', 'Note'], header=None)\n",
    "    df_trie = df.sort_values(by=\"Nom\")\n",
    "    return df_trie.head(n)\n",
    "    "
   ]
  },
  {
   "cell_type": "code",
   "execution_count": 87,
   "metadata": {},
   "outputs": [],
   "source": [
    "# Recherche linaire\n",
    "def recherche_linaire(df:pd.DataFrame, cible:str)->float:\n",
    "    noms = df['Nom'].to_list()\n",
    "\n",
    "    for i in range(len(noms)):\n",
    "        if noms[i] == cible:\n",
    "            index_cible = i\n",
    "            return df.iloc[index_cible]['Note']"
   ]
  },
  {
   "cell_type": "code",
   "execution_count": 88,
   "metadata": {},
   "outputs": [
    {
     "data": {
      "text/plain": [
       "np.float64(6.71)"
      ]
     },
     "execution_count": 88,
     "metadata": {},
     "output_type": "execute_result"
    }
   ],
   "source": [
    "df = load_person_data(filename, 20)\n",
    "recherche_linaire(df, \"Amandine\")\n"
   ]
  },
  {
   "cell_type": "code",
   "execution_count": 89,
   "metadata": {},
   "outputs": [
    {
     "name": "stdout",
     "output_type": "stream",
     "text": [
      "['Adrien', 'Alain', 'Alex', 'Alexandre', 'Alice', 'Alicia', 'Amandine', 'Anais', 'Antoine', 'Arthur', 'Aurelie', 'Bastien', 'Benjamin', 'Benoit', 'Camille', 'Catherine', 'Cedric', 'Celine', 'Charlotte', 'Chloe']\n"
     ]
    },
    {
     "data": {
      "text/plain": [
       "np.float64(6.71)"
      ]
     },
     "execution_count": 89,
     "metadata": {},
     "output_type": "execute_result"
    }
   ],
   "source": [
    "# Recherche binaire\n",
    "df = load_person_data(filename,20)\n",
    "def recherche_binaire(df:pd.DataFrame,cible:str)->float:\n",
    "    noms = df['Nom'].to_list()\n",
    "    print(noms)\n",
    "    debut = 0\n",
    "    fin = len(noms) - 1\n",
    "    while debut <= fin:\n",
    "        milieu = (debut + fin)// 2\n",
    "        if noms[milieu] == cible:\n",
    "            return df.iloc[milieu][\"Note\"]\n",
    "        elif noms[milieu] < cible:\n",
    "            debut = milieu + 1\n",
    "        else:\n",
    "            fin = milieu - 1\n",
    "    return None\n",
    "\n",
    "\n",
    "recherche_binaire(df,\"Amandine\")\n",
    "\n"
   ]
  },
  {
   "cell_type": "markdown",
   "metadata": {},
   "source": [
    "## ÉTAPE 3 "
   ]
  },
  {
   "cell_type": "code",
   "execution_count": 90,
   "metadata": {},
   "outputs": [],
   "source": [
    "import time"
   ]
  },
  {
   "cell_type": "markdown",
   "metadata": {},
   "source": [
    "### CRÉATION DE LA FONCTION PRINCIPALE"
   ]
  },
  {
   "cell_type": "code",
   "execution_count": 106,
   "metadata": {},
   "outputs": [
    {
     "name": "stdout",
     "output_type": "stream",
     "text": [
      "['Adrien', 'Alain', 'Alex', 'Alexandre', 'Alice', 'Alicia', 'Amandine', 'Anais', 'Antoine', 'Arthur', 'Aurelie', 'Bastien', 'Benjamin', 'Benoit', 'Camille', 'Catherine', 'Cedric', 'Celine', 'Charlotte', 'Chloe']\n"
     ]
    },
    {
     "data": {
      "text/plain": [
       "(np.float64(6.71), 0.0001800060272216797)"
      ]
     },
     "execution_count": 106,
     "metadata": {},
     "output_type": "execute_result"
    }
   ],
   "source": [
    "\n",
    "df = load_person_data(filename,20)\n",
    "\n",
    "def recherche_note(cible:str,df:pd.DataFrame,algo_recherche)-> float:\n",
    "    debut_temps = time.time()\n",
    "    note = algo_recherche(df,cible) # Utilisation d'algo de recherche \n",
    "    fin_temps = time.time()\n",
    "    temps_ext =  fin_temps - debut_temps\n",
    "    #print(f\"la note est de {note} , l'algo{algo_recherche} a pris {temps_ext} secondes a trouver\")\n",
    "    return note, temps_ext\n",
    "\n",
    "\n",
    "recherche_note(\"Amandine\",df,recherche_linaire)\n",
    "recherche_note(\"Amandine\",df,recherche_binaire)\n",
    "\n",
    "\n",
    "\n",
    "\n",
    "\n",
    "\n",
    "\n"
   ]
  },
  {
   "cell_type": "markdown",
   "metadata": {},
   "source": [
    "### MESURE DE PERFORMANCES"
   ]
  },
  {
   "cell_type": "code",
   "execution_count": 97,
   "metadata": {},
   "outputs": [],
   "source": [
    "def performance_test(filename):\n",
    "    sizes  = range(10,101,10)\n",
    "    resultat = []\n",
    "\n",
    "    for s in sizes:\n",
    "        df = load_person_data(filename=filename, n=s)\n",
    "\n",
    "        _, tmp_lineaire = recherche_note(df=df, cible =\"Alex\", algo_recherche=recherche_linaire)\n",
    "        _, tmp_binaire = recherche_note(df=df, cible =\"Alex\", algo_recherche=recherche_binaire)\n",
    "\n",
    "        resultat.append((s, tmp_lineaire,tmp_binaire))\n",
    "\n",
    "    return resultat\n"
   ]
  },
  {
   "cell_type": "code",
   "execution_count": 107,
   "metadata": {},
   "outputs": [
    {
     "name": "stdout",
     "output_type": "stream",
     "text": [
      "['Adrien', 'Alain', 'Alex', 'Alexandre', 'Alice', 'Alicia', 'Amandine', 'Anais', 'Antoine', 'Arthur']\n",
      "['Adrien', 'Alain', 'Alex', 'Alexandre', 'Alice', 'Alicia', 'Amandine', 'Anais', 'Antoine', 'Arthur', 'Aurelie', 'Bastien', 'Benjamin', 'Benoit', 'Camille', 'Catherine', 'Cedric', 'Celine', 'Charlotte', 'Chloe']\n",
      "['Adrien', 'Alain', 'Alex', 'Alexandre', 'Alice', 'Alicia', 'Amandine', 'Anais', 'Antoine', 'Arthur', 'Aurelie', 'Bastien', 'Benjamin', 'Benoit', 'Camille', 'Catherine', 'Cedric', 'Celine', 'Charlotte', 'Chloe', 'Christine', 'Clara', 'Clemence', 'Clotilde', 'Damien', 'David', 'Dylan', 'Elise', 'Elsa', 'Emma']\n",
      "['Adrien', 'Alain', 'Alex', 'Alexandre', 'Alice', 'Alicia', 'Amandine', 'Anais', 'Antoine', 'Arthur', 'Aurelie', 'Bastien', 'Benjamin', 'Benoit', 'Camille', 'Catherine', 'Cedric', 'Celine', 'Charlotte', 'Chloe', 'Christine', 'Clara', 'Clemence', 'Clotilde', 'Damien', 'David', 'Dylan', 'Elise', 'Elsa', 'Emma', 'Eric', 'Esteban', 'Eva', 'Eva', 'Eve', 'Fabien', 'Fanny', 'Florian', 'Frederic', 'Gaetan']\n",
      "['Adrien', 'Alain', 'Alex', 'Alexandre', 'Alice', 'Alicia', 'Amandine', 'Anais', 'Antoine', 'Arthur', 'Aurelie', 'Bastien', 'Benjamin', 'Benoit', 'Camille', 'Catherine', 'Cedric', 'Celine', 'Charlotte', 'Chloe', 'Christine', 'Clara', 'Clemence', 'Clotilde', 'Damien', 'David', 'Dylan', 'Elise', 'Elsa', 'Emma', 'Eric', 'Esteban', 'Eva', 'Eva', 'Eve', 'Fabien', 'Fanny', 'Florian', 'Frederic', 'Gaetan', 'Gauthier', 'Guillaume', 'Helene', 'Henri', 'Hugo', 'Isabelle', 'Jean', 'Jean-Baptiste', 'Jeanne', 'Jeremy']\n",
      "['Adrien', 'Alain', 'Alex', 'Alexandre', 'Alice', 'Alicia', 'Amandine', 'Anais', 'Antoine', 'Arthur', 'Aurelie', 'Bastien', 'Benjamin', 'Benoit', 'Camille', 'Catherine', 'Cedric', 'Celine', 'Charlotte', 'Chloe', 'Christine', 'Clara', 'Clemence', 'Clotilde', 'Damien', 'David', 'Dylan', 'Elise', 'Elsa', 'Emma', 'Eric', 'Esteban', 'Eva', 'Eva', 'Eve', 'Fabien', 'Fanny', 'Florian', 'Frederic', 'Gaetan', 'Gauthier', 'Guillaume', 'Helene', 'Henri', 'Hugo', 'Isabelle', 'Jean', 'Jean-Baptiste', 'Jeanne', 'Jeremy', 'Jerome', 'Julie', 'Julie', 'Julien', 'Juliette', 'Karine', 'Kevin', 'Laura', 'Lea', 'Leo']\n",
      "['Adrien', 'Alain', 'Alex', 'Alexandre', 'Alice', 'Alicia', 'Amandine', 'Anais', 'Antoine', 'Arthur', 'Aurelie', 'Bastien', 'Benjamin', 'Benoit', 'Camille', 'Catherine', 'Cedric', 'Celine', 'Charlotte', 'Chloe', 'Christine', 'Clara', 'Clemence', 'Clotilde', 'Damien', 'David', 'Dylan', 'Elise', 'Elsa', 'Emma', 'Eric', 'Esteban', 'Eva', 'Eva', 'Eve', 'Fabien', 'Fanny', 'Florian', 'Frederic', 'Gaetan', 'Gauthier', 'Guillaume', 'Helene', 'Henri', 'Hugo', 'Isabelle', 'Jean', 'Jean-Baptiste', 'Jeanne', 'Jeremy', 'Jerome', 'Julie', 'Julie', 'Julien', 'Juliette', 'Karine', 'Kevin', 'Laura', 'Lea', 'Leo', 'Lionel', 'Louise', 'Luc', 'Lucas', 'Lucie', 'Manon', 'Marc', 'Margaux', 'Marie', 'Marine']\n",
      "['Adrien', 'Alain', 'Alex', 'Alexandre', 'Alice', 'Alicia', 'Amandine', 'Anais', 'Antoine', 'Arthur', 'Aurelie', 'Bastien', 'Benjamin', 'Benoit', 'Camille', 'Catherine', 'Cedric', 'Celine', 'Charlotte', 'Chloe', 'Christine', 'Clara', 'Clemence', 'Clotilde', 'Damien', 'David', 'Dylan', 'Elise', 'Elsa', 'Emma', 'Eric', 'Esteban', 'Eva', 'Eva', 'Eve', 'Fabien', 'Fanny', 'Florian', 'Frederic', 'Gaetan', 'Gauthier', 'Guillaume', 'Helene', 'Henri', 'Hugo', 'Isabelle', 'Jean', 'Jean-Baptiste', 'Jeanne', 'Jeremy', 'Jerome', 'Julie', 'Julie', 'Julien', 'Juliette', 'Karine', 'Kevin', 'Laura', 'Lea', 'Leo', 'Lionel', 'Louise', 'Luc', 'Lucas', 'Lucie', 'Manon', 'Marc', 'Margaux', 'Marie', 'Marine', 'Marion', 'Mathilde', 'Matthieu', 'Max', 'Maxime', 'Melissa', 'Mickael', 'Morgane', 'Nathalie', 'Nathan']\n",
      "['Adrien', 'Alain', 'Alex', 'Alexandre', 'Alice', 'Alicia', 'Amandine', 'Anais', 'Antoine', 'Arthur', 'Aurelie', 'Bastien', 'Benjamin', 'Benoit', 'Camille', 'Catherine', 'Cedric', 'Celine', 'Charlotte', 'Chloe', 'Christine', 'Clara', 'Clemence', 'Clotilde', 'Damien', 'David', 'Dylan', 'Elise', 'Elsa', 'Emma', 'Eric', 'Esteban', 'Eva', 'Eva', 'Eve', 'Fabien', 'Fanny', 'Florian', 'Frederic', 'Gaetan', 'Gauthier', 'Guillaume', 'Helene', 'Henri', 'Hugo', 'Isabelle', 'Jean', 'Jean-Baptiste', 'Jeanne', 'Jeremy', 'Jerome', 'Julie', 'Julie', 'Julien', 'Juliette', 'Karine', 'Kevin', 'Laura', 'Lea', 'Leo', 'Lionel', 'Louise', 'Luc', 'Lucas', 'Lucie', 'Manon', 'Marc', 'Margaux', 'Marie', 'Marine', 'Marion', 'Mathilde', 'Matthieu', 'Max', 'Maxime', 'Melissa', 'Mickael', 'Morgane', 'Nathalie', 'Nathan', 'Nina', 'Olivier', 'Patrick', 'Paul', 'Pierre', 'Quentin', 'Raphael', 'Romain', 'Sabrina', 'Sacha']\n",
      "['Adrien', 'Alain', 'Alex', 'Alexandre', 'Alice', 'Alicia', 'Amandine', 'Anais', 'Antoine', 'Arthur', 'Aurelie', 'Bastien', 'Benjamin', 'Benoit', 'Camille', 'Catherine', 'Cedric', 'Celine', 'Charlotte', 'Chloe', 'Christine', 'Clara', 'Clemence', 'Clotilde', 'Damien', 'David', 'Dylan', 'Elise', 'Elsa', 'Emma', 'Eric', 'Esteban', 'Eva', 'Eva', 'Eve', 'Fabien', 'Fanny', 'Florian', 'Frederic', 'Gaetan', 'Gauthier', 'Guillaume', 'Helene', 'Henri', 'Hugo', 'Isabelle', 'Jean', 'Jean-Baptiste', 'Jeanne', 'Jeremy', 'Jerome', 'Julie', 'Julie', 'Julien', 'Juliette', 'Karine', 'Kevin', 'Laura', 'Lea', 'Leo', 'Lionel', 'Louise', 'Luc', 'Lucas', 'Lucie', 'Manon', 'Marc', 'Margaux', 'Marie', 'Marine', 'Marion', 'Mathilde', 'Matthieu', 'Max', 'Maxime', 'Melissa', 'Mickael', 'Morgane', 'Nathalie', 'Nathan', 'Nina', 'Olivier', 'Patrick', 'Paul', 'Pierre', 'Quentin', 'Raphael', 'Romain', 'Sabrina', 'Sacha', 'Sandrine', 'Sarah', 'Sebastien', 'Sophie', 'Stephanie', 'Thomas', 'Veronique', 'Vincent', 'Virginie', 'Yohan']\n"
     ]
    }
   ],
   "source": [
    "resultat_test = performance_test(filename=filename)"
   ]
  },
  {
   "cell_type": "code",
   "execution_count": 109,
   "metadata": {},
   "outputs": [],
   "source": [
    "resultat = pd.DataFrame(resultat_test, columns=[\"taille\",\"temps Linaire\", \"temps Binaire\"])"
   ]
  },
  {
   "cell_type": "code",
   "execution_count": 110,
   "metadata": {},
   "outputs": [
    {
     "data": {
      "text/html": [
       "<div>\n",
       "<style scoped>\n",
       "    .dataframe tbody tr th:only-of-type {\n",
       "        vertical-align: middle;\n",
       "    }\n",
       "\n",
       "    .dataframe tbody tr th {\n",
       "        vertical-align: top;\n",
       "    }\n",
       "\n",
       "    .dataframe thead th {\n",
       "        text-align: right;\n",
       "    }\n",
       "</style>\n",
       "<table border=\"1\" class=\"dataframe\">\n",
       "  <thead>\n",
       "    <tr style=\"text-align: right;\">\n",
       "      <th></th>\n",
       "      <th>taille</th>\n",
       "      <th>temps Linaire</th>\n",
       "      <th>temps Binaire</th>\n",
       "    </tr>\n",
       "  </thead>\n",
       "  <tbody>\n",
       "    <tr>\n",
       "      <th>0</th>\n",
       "      <td>10</td>\n",
       "      <td>0.000142</td>\n",
       "      <td>0.000217</td>\n",
       "    </tr>\n",
       "    <tr>\n",
       "      <th>1</th>\n",
       "      <td>20</td>\n",
       "      <td>0.000079</td>\n",
       "      <td>0.000063</td>\n",
       "    </tr>\n",
       "    <tr>\n",
       "      <th>2</th>\n",
       "      <td>30</td>\n",
       "      <td>0.000115</td>\n",
       "      <td>0.000082</td>\n",
       "    </tr>\n",
       "    <tr>\n",
       "      <th>3</th>\n",
       "      <td>40</td>\n",
       "      <td>0.000071</td>\n",
       "      <td>0.000061</td>\n",
       "    </tr>\n",
       "    <tr>\n",
       "      <th>4</th>\n",
       "      <td>50</td>\n",
       "      <td>0.000070</td>\n",
       "      <td>0.000063</td>\n",
       "    </tr>\n",
       "    <tr>\n",
       "      <th>5</th>\n",
       "      <td>60</td>\n",
       "      <td>0.000062</td>\n",
       "      <td>0.000055</td>\n",
       "    </tr>\n",
       "    <tr>\n",
       "      <th>6</th>\n",
       "      <td>70</td>\n",
       "      <td>0.000072</td>\n",
       "      <td>0.000062</td>\n",
       "    </tr>\n",
       "    <tr>\n",
       "      <th>7</th>\n",
       "      <td>80</td>\n",
       "      <td>0.000075</td>\n",
       "      <td>0.000080</td>\n",
       "    </tr>\n",
       "    <tr>\n",
       "      <th>8</th>\n",
       "      <td>90</td>\n",
       "      <td>0.000060</td>\n",
       "      <td>0.000112</td>\n",
       "    </tr>\n",
       "    <tr>\n",
       "      <th>9</th>\n",
       "      <td>100</td>\n",
       "      <td>0.000056</td>\n",
       "      <td>0.000052</td>\n",
       "    </tr>\n",
       "  </tbody>\n",
       "</table>\n",
       "</div>"
      ],
      "text/plain": [
       "   taille  temps Linaire  temps Binaire\n",
       "0      10       0.000142       0.000217\n",
       "1      20       0.000079       0.000063\n",
       "2      30       0.000115       0.000082\n",
       "3      40       0.000071       0.000061\n",
       "4      50       0.000070       0.000063\n",
       "5      60       0.000062       0.000055\n",
       "6      70       0.000072       0.000062\n",
       "7      80       0.000075       0.000080\n",
       "8      90       0.000060       0.000112\n",
       "9     100       0.000056       0.000052"
      ]
     },
     "execution_count": 110,
     "metadata": {},
     "output_type": "execute_result"
    }
   ],
   "source": [
    "resultat"
   ]
  },
  {
   "cell_type": "markdown",
   "metadata": {},
   "source": [
    "# DEBUT AVEC MATPLOT.LIB"
   ]
  },
  {
   "cell_type": "code",
   "execution_count": null,
   "metadata": {},
   "outputs": [],
   "source": []
  }
 ],
 "metadata": {
  "kernelspec": {
   "display_name": "Python 3",
   "language": "python",
   "name": "python3"
  },
  "language_info": {
   "codemirror_mode": {
    "name": "ipython",
    "version": 3
   },
   "file_extension": ".py",
   "mimetype": "text/x-python",
   "name": "python",
   "nbconvert_exporter": "python",
   "pygments_lexer": "ipython3",
   "version": "3.9.6"
  }
 },
 "nbformat": 4,
 "nbformat_minor": 2
}
