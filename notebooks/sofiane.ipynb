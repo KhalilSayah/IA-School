{
 "cells": [
  {
   "cell_type": "markdown",
   "metadata": {},
   "source": [
    "## TEST\n",
    "\n"
   ]
  },
  {
   "cell_type": "code",
   "execution_count": null,
   "metadata": {},
   "outputs": [],
   "source": []
  },
  {
   "cell_type": "code",
   "execution_count": 54,
   "metadata": {},
   "outputs": [
    {
     "name": "stdout",
     "output_type": "stream",
     "text": [
      "ce prof c'est haja le top\n"
     ]
    }
   ],
   "source": [
    "print(\"ce prof c'est haja le top\")"
   ]
  },
  {
   "cell_type": "markdown",
   "metadata": {},
   "source": [
    "## algorithmique SOSO\n"
   ]
  },
  {
   "cell_type": "code",
   "execution_count": 55,
   "metadata": {},
   "outputs": [],
   "source": [
    "import pandas as pd"
   ]
  },
  {
   "cell_type": "code",
   "execution_count": 56,
   "metadata": {},
   "outputs": [],
   "source": [
    "filename = \"../data/person_data.csv\""
   ]
  },
  {
   "cell_type": "code",
   "execution_count": 57,
   "metadata": {},
   "outputs": [],
   "source": [
    "# Fonction (file.csv, int) -> df\n",
    "\n",
    "def load_person_data(filename:str, n:int)-> pd.DataFrame:\n",
    "    df = pd.read_csv(filename, names=['Nom', 'Note'], header=None)\n",
    "    df_trie = df.sort_values(by=\"Nom\")\n",
    "    return df_trie.head(n)\n",
    "    "
   ]
  },
  {
   "cell_type": "code",
   "execution_count": 58,
   "metadata": {},
   "outputs": [],
   "source": [
    "# Recherche linaire\n",
    "def recherche_linaire(df:pd.DataFrame, cible:str)->float:\n",
    "    noms = df['Nom'].to_list()\n",
    "\n",
    "    for i in range(len(noms)):\n",
    "        if noms[i] == cible:\n",
    "            index_cible = i\n",
    "            return df.iloc[index_cible]['Note']"
   ]
  },
  {
   "cell_type": "code",
   "execution_count": 59,
   "metadata": {},
   "outputs": [
    {
     "data": {
      "text/plain": [
       "np.float64(6.71)"
      ]
     },
     "execution_count": 59,
     "metadata": {},
     "output_type": "execute_result"
    }
   ],
   "source": [
    "df = load_person_data(filename, 20)\n",
    "recherche_linaire(df, \"Amandine\")\n"
   ]
  },
  {
   "cell_type": "code",
   "execution_count": 78,
   "metadata": {},
   "outputs": [
    {
     "name": "stdout",
     "output_type": "stream",
     "text": [
      "['Adrien', 'Alain', 'Alex', 'Alexandre', 'Alice', 'Alicia', 'Amandine', 'Anais', 'Antoine', 'Arthur', 'Aurelie', 'Bastien', 'Benjamin', 'Benoit', 'Camille', 'Catherine', 'Cedric', 'Celine', 'Charlotte', 'Chloe']\n"
     ]
    },
    {
     "data": {
      "text/plain": [
       "np.float64(6.71)"
      ]
     },
     "execution_count": 78,
     "metadata": {},
     "output_type": "execute_result"
    }
   ],
   "source": [
    "# Recherche binaire\n",
    "df = load_person_data(filename,20)\n",
    "def recherche_binaire(df:pd.DataFrame,cible:str)->float:\n",
    "    noms = df['Nom'].to_list()\n",
    "    print(noms)\n",
    "    debut = 0\n",
    "    fin = len(noms) - 1\n",
    "    while debut <= fin:\n",
    "        milieu = (debut + fin)// 2\n",
    "        if noms[milieu] == cible:\n",
    "            return df.iloc[milieu][\"Note\"]\n",
    "        elif noms[milieu] < cible:\n",
    "            debut = milieu + 1\n",
    "        else:\n",
    "            fin = milieu - 1\n",
    "    return None\n",
    "\n",
    "\n",
    "recherche_binaire(df,\"Amandine\")\n",
    "\n"
   ]
  },
  {
   "cell_type": "markdown",
   "metadata": {},
   "source": [
    "## ÉTAPE 3 "
   ]
  },
  {
   "cell_type": "code",
   "execution_count": 63,
   "metadata": {},
   "outputs": [],
   "source": [
    "import time"
   ]
  },
  {
   "cell_type": "markdown",
   "metadata": {},
   "source": [
    "### CRÉATION DE LA FONCTION PRINCIPALE"
   ]
  },
  {
   "cell_type": "code",
   "execution_count": 81,
   "metadata": {},
   "outputs": [
    {
     "name": "stdout",
     "output_type": "stream",
     "text": [
      "la note est de 6.71 , l'algo<function recherche_linaire at 0x107ea0700> a pris 0.00013113021850585938 secondes a trouver\n",
      "['Adrien', 'Alain', 'Alex', 'Alexandre', 'Alice', 'Alicia', 'Amandine', 'Anais', 'Antoine', 'Arthur', 'Aurelie', 'Bastien', 'Benjamin', 'Benoit', 'Camille', 'Catherine', 'Cedric', 'Celine', 'Charlotte', 'Chloe']\n",
      "la note est de 6.71 , l'algo<function recherche_binaire at 0x107ec75e0> a pris 0.00020885467529296875 secondes a trouver\n"
     ]
    },
    {
     "data": {
      "text/plain": [
       "(np.float64(6.71), 0.00020885467529296875)"
      ]
     },
     "execution_count": 81,
     "metadata": {},
     "output_type": "execute_result"
    }
   ],
   "source": [
    "\n",
    "df = load_person_data(filename,20)\n",
    "\n",
    "def recherche_note(cible:str,df:pd.DataFrame,algo_recherche)-> float:\n",
    "    debut_temps = time.time()\n",
    "    note = algo_recherche(df,cible) # Utilisation d'algo de recherche \n",
    "    fin_temps = time.time()\n",
    "    temps_ext =  fin_temps - debut_temps\n",
    "    print(f\"la note est de {note} , l'algo{algo_recherche} a pris {temps_ext} secondes a trouver\")\n",
    "    return note, temps_ext\n",
    "\n",
    "\n",
    "recherche_note(\"Amandine\",df,recherche_linaire)\n",
    "recherche_note(\"Amandine\",df,recherche_binaire)\n",
    "\n",
    "\n",
    "\n",
    "\n",
    "\n",
    "\n",
    "\n"
   ]
  },
  {
   "cell_type": "markdown",
   "metadata": {},
   "source": [
    "### MESURE DE PERFORMANCES"
   ]
  },
  {
   "cell_type": "code",
   "execution_count": null,
   "metadata": {},
   "outputs": [],
   "source": []
  }
 ],
 "metadata": {
  "kernelspec": {
   "display_name": "Python 3",
   "language": "python",
   "name": "python3"
  },
  "language_info": {
   "codemirror_mode": {
    "name": "ipython",
    "version": 3
   },
   "file_extension": ".py",
   "mimetype": "text/x-python",
   "name": "python",
   "nbconvert_exporter": "python",
   "pygments_lexer": "ipython3",
   "version": "3.9.6"
  }
 },
 "nbformat": 4,
 "nbformat_minor": 2
}
