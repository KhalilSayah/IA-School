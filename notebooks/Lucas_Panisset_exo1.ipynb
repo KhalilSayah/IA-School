{
 "cells": [
  {
   "cell_type": "code",
   "execution_count": 28,
   "metadata": {},
   "outputs": [],
   "source": [
    "import pandas as pd\n",
    "import time \n",
    "\n",
    "def load_into_csv(path,n):\n",
    "    data=pd.read_csv(path,nrows=n,names=['nom','notes'])\n",
    "    \n",
    "    return data\n",
    "\n"
   ]
  },
  {
   "cell_type": "code",
   "execution_count": 29,
   "metadata": {},
   "outputs": [
    {
     "name": "stdout",
     "output_type": "stream",
     "text": [
      "         nom  notes\n",
      "0       Alex   8.80\n",
      "1      Marie  13.74\n",
      "2      Lucas  11.77\n",
      "3       Emma   7.88\n",
      "4       Paul   3.17\n",
      "5      Laura   0.49\n",
      "6       Hugo   8.32\n",
      "7      Chloe  16.85\n",
      "8     Maxime  10.42\n",
      "9     Sophie  13.94\n",
      "10    Nathan   3.00\n",
      "11   Camille  10.09\n",
      "12    Thomas  10.14\n",
      "13  Juliette   7.59\n",
      "14  Matthieu  14.22\n",
      "15     Manon   5.70\n",
      "16       Leo   8.61\n",
      "17     Sarah  18.95\n",
      "18   Antoine   0.76\n",
      "19     Lucie   5.94\n"
     ]
    }
   ],
   "source": [
    "data=load_into_csv(\"person_data.csv\",20)\n",
    "print(data)"
   ]
  },
  {
   "cell_type": "code",
   "execution_count": 30,
   "metadata": {},
   "outputs": [],
   "source": [
    "def recherche (list,n):\n",
    "    for i in range (len(list)):\n",
    "        if list[i]==n:\n",
    "            return i\n",
    "    return \"Nombre non présent dans la liste\"\n",
    "\n",
    "def rechercheBinaire(list,n):\n",
    "    g=0\n",
    "    d=len(list)-1\n",
    "    m=(g+d)//2\n",
    "    while g<=d :\n",
    "        if list[m]==n:\n",
    "                return m\n",
    "        elif list[m]>n:\n",
    "            d=m-1\n",
    "        else:\n",
    "            g=m +1\n",
    "        m=(g+d)//2\n",
    "    return \"rien\""
   ]
  },
  {
   "cell_type": "code",
   "execution_count": 31,
   "metadata": {},
   "outputs": [],
   "source": [
    "def recherchelineaire_nom_to_note(df,nom):\n",
    "\n",
    "    lst_nom=df['nom'].tolist()\n",
    "    lst_notes=df['notes'].tolist()\n",
    "\n",
    "    result=recherche(lst_nom,nom)\n",
    "    if result==\"Nombre non présent dans la liste\" :\n",
    "        return \"Nom non présent dans la liste\"\n",
    "    else:\n",
    "        return nom,lst_notes[result]\n",
    "\n"
   ]
  },
  {
   "cell_type": "code",
   "execution_count": 32,
   "metadata": {},
   "outputs": [],
   "source": [
    "def rechercheBinaire_nom_to_note(df,nom):\n",
    "\n",
    "    df=df.sort_values(\"nom\")\n",
    "    lst_nom=df['nom'].tolist()\n",
    "    lst_notes=df['notes'].tolist()\n",
    "\n",
    "    result=rechercheBinaire(lst_nom,nom)\n",
    "\n",
    "    if result==\"rien\" :\n",
    "        return \"Nom non présent dans la liste\"\n",
    "    else:\n",
    "        return nom,lst_notes[result]\n"
   ]
  },
  {
   "cell_type": "code",
   "execution_count": 33,
   "metadata": {},
   "outputs": [
    {
     "name": "stdout",
     "output_type": "stream",
     "text": [
      "('Juliette', 7.59)\n",
      "('Juliette', 7.59)\n"
     ]
    }
   ],
   "source": [
    "r1=recherchelineaire_nom_to_note(data,'Juliette')\n",
    "\n",
    "r2=rechercheBinaire_nom_to_note(data,'Juliette')\n",
    "print(r1)\n",
    "print(r2)"
   ]
  },
  {
   "cell_type": "code",
   "execution_count": 34,
   "metadata": {},
   "outputs": [
    {
     "name": "stdout",
     "output_type": "stream",
     "text": [
      "('Yohan', 15.12)\n",
      "('Yohan', 15.12)\n"
     ]
    }
   ],
   "source": [
    "data2=load_into_csv(\"person_data.csv\",100)\n",
    "r1=recherchelineaire_nom_to_note(data2,'Yohan')\n",
    "r2=rechercheBinaire_nom_to_note(data2,'Yohan')\n",
    "print(r1)\n",
    "print(r2)"
   ]
  },
  {
   "cell_type": "code",
   "execution_count": 35,
   "metadata": {},
   "outputs": [],
   "source": [
    "def rechercheGeneral(data,nom,algo):\n",
    "    tm_debut=time.time()\n",
    "    result=algo(data,nom)\n",
    "    tm_fin=time.time()\n",
    "    return result,tm_fin-tm_debut"
   ]
  },
  {
   "cell_type": "code",
   "execution_count": 36,
   "metadata": {},
   "outputs": [
    {
     "data": {
      "text/plain": [
       "(('Yohan', 15.12), 0.0)"
      ]
     },
     "execution_count": 36,
     "metadata": {},
     "output_type": "execute_result"
    }
   ],
   "source": [
    "rechercheGeneral(data2,'Yohan',recherchelineaire_nom_to_note)"
   ]
  },
  {
   "cell_type": "code",
   "execution_count": 40,
   "metadata": {},
   "outputs": [
    {
     "name": "stdout",
     "output_type": "stream",
     "text": [
      "[0.0, 0.0, 0.0, 0.0010402202606201172, 0.0, 0.0, 0.0, 0.0, 0.0, 0.0]\n",
      "[0.0004940032958984375, 0.0, 0.0010128021240234375, 0.0009980201721191406, 0.0009996891021728516, 0.0004994869232177734, 0.0009961128234863281, 0.0004935264587402344, 0.0005049705505371094, 0.0004973411560058594]\n"
     ]
    },
    {
     "data": {
      "text/html": [
       "<div>\n",
       "<style scoped>\n",
       "    .dataframe tbody tr th:only-of-type {\n",
       "        vertical-align: middle;\n",
       "    }\n",
       "\n",
       "    .dataframe tbody tr th {\n",
       "        vertical-align: top;\n",
       "    }\n",
       "\n",
       "    .dataframe thead th {\n",
       "        text-align: right;\n",
       "    }\n",
       "</style>\n",
       "<table border=\"1\" class=\"dataframe\">\n",
       "  <thead>\n",
       "    <tr style=\"text-align: right;\">\n",
       "      <th></th>\n",
       "      <th>valeur de n</th>\n",
       "      <th>tps recherche lineaire</th>\n",
       "      <th>tps recherche binaire</th>\n",
       "    </tr>\n",
       "  </thead>\n",
       "  <tbody>\n",
       "    <tr>\n",
       "      <th>0</th>\n",
       "      <td>10</td>\n",
       "      <td>0.00000</td>\n",
       "      <td>0.000494</td>\n",
       "    </tr>\n",
       "    <tr>\n",
       "      <th>1</th>\n",
       "      <td>20</td>\n",
       "      <td>0.00000</td>\n",
       "      <td>0.000000</td>\n",
       "    </tr>\n",
       "    <tr>\n",
       "      <th>2</th>\n",
       "      <td>30</td>\n",
       "      <td>0.00000</td>\n",
       "      <td>0.001013</td>\n",
       "    </tr>\n",
       "    <tr>\n",
       "      <th>3</th>\n",
       "      <td>40</td>\n",
       "      <td>0.00104</td>\n",
       "      <td>0.000998</td>\n",
       "    </tr>\n",
       "    <tr>\n",
       "      <th>4</th>\n",
       "      <td>50</td>\n",
       "      <td>0.00000</td>\n",
       "      <td>0.001000</td>\n",
       "    </tr>\n",
       "    <tr>\n",
       "      <th>5</th>\n",
       "      <td>60</td>\n",
       "      <td>0.00000</td>\n",
       "      <td>0.000499</td>\n",
       "    </tr>\n",
       "    <tr>\n",
       "      <th>6</th>\n",
       "      <td>70</td>\n",
       "      <td>0.00000</td>\n",
       "      <td>0.000996</td>\n",
       "    </tr>\n",
       "    <tr>\n",
       "      <th>7</th>\n",
       "      <td>80</td>\n",
       "      <td>0.00000</td>\n",
       "      <td>0.000494</td>\n",
       "    </tr>\n",
       "    <tr>\n",
       "      <th>8</th>\n",
       "      <td>90</td>\n",
       "      <td>0.00000</td>\n",
       "      <td>0.000505</td>\n",
       "    </tr>\n",
       "    <tr>\n",
       "      <th>9</th>\n",
       "      <td>100</td>\n",
       "      <td>0.00000</td>\n",
       "      <td>0.000497</td>\n",
       "    </tr>\n",
       "  </tbody>\n",
       "</table>\n",
       "</div>"
      ],
      "text/plain": [
       "   valeur de n  tps recherche lineaire  tps recherche binaire\n",
       "0           10                 0.00000               0.000494\n",
       "1           20                 0.00000               0.000000\n",
       "2           30                 0.00000               0.001013\n",
       "3           40                 0.00104               0.000998\n",
       "4           50                 0.00000               0.001000\n",
       "5           60                 0.00000               0.000499\n",
       "6           70                 0.00000               0.000996\n",
       "7           80                 0.00000               0.000494\n",
       "8           90                 0.00000               0.000505\n",
       "9          100                 0.00000               0.000497"
      ]
     },
     "execution_count": 40,
     "metadata": {},
     "output_type": "execute_result"
    }
   ],
   "source": [
    "lst_tps_recherche_lineraire=[]\n",
    "lst_tps_recherche_binaire=[]\n",
    "\n",
    "for i in range (10,101,10):\n",
    "    data=load_into_csv(\"person_data.csv\",i)\n",
    "    r=rechercheGeneral(data,'Yohan',recherchelineaire_nom_to_note)\n",
    "    lst_tps_recherche_lineraire.append(r[1])\n",
    "\n",
    "for i in range (10,101,10):\n",
    "    data=load_into_csv(\"person_data.csv\",i)\n",
    "    r=rechercheGeneral(data,'Yohan',rechercheBinaire_nom_to_note)\n",
    "    lst_tps_recherche_binaire.append(r[1])\n",
    "\n",
    "print(lst_tps_recherche_lineraire)\n",
    "print(lst_tps_recherche_binaire)\n",
    "\n",
    "datafinal=pd.DataFrame(list(zip([n for n in range (10,101,10)],lst_tps_recherche_lineraire,lst_tps_recherche_binaire)),columns=['valeur de n','tps recherche lineaire','tps recherche binaire'])\n",
    "datafinal"
   ]
  }
 ],
 "metadata": {
  "kernelspec": {
   "display_name": "base",
   "language": "python",
   "name": "python3"
  },
  "language_info": {
   "codemirror_mode": {
    "name": "ipython",
    "version": 3
   },
   "file_extension": ".py",
   "mimetype": "text/x-python",
   "name": "python",
   "nbconvert_exporter": "python",
   "pygments_lexer": "ipython3",
   "version": "3.11.5"
  }
 },
 "nbformat": 4,
 "nbformat_minor": 2
}
